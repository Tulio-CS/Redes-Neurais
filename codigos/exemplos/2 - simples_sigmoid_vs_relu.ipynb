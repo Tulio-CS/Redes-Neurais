{
  "nbformat": 4,
  "nbformat_minor": 0,
  "metadata": {
    "colab": {
      "name": "simples_com_relu (1).ipynb",
      "provenance": [],
      "collapsed_sections": []
    },
    "kernelspec": {
      "name": "python3",
      "display_name": "Python 3"
    }
  },
  "cells": [
    {
      "cell_type": "markdown",
      "source": [
        "# **Redes Neurais Profundas**\n",
        "Comparação de redes neurais profundas com SIGMOIDE e com RELU, demonstrando a deficiência de aprendizado de redes profundas utilizando funções de ativaçao sigmoidais e a restauração da eficiência quando utilizadas funções de ativação ReLU"
      ],
      "metadata": {
        "id": "6uamjC8hrnRC"
      }
    },
    {
      "cell_type": "markdown",
      "metadata": {
        "id": "QoeOVKnsjtmF"
      },
      "source": [
        "### **Importando Libs**"
      ]
    },
    {
      "cell_type": "code",
      "metadata": {
        "id": "hxTpBq6wj-Xf"
      },
      "source": [
        "from tensorflow import random\n",
        "from tensorflow.keras import layers, models, optimizers\n",
        "import numpy as np\n",
        "import pandas as pd\n",
        "import matplotlib.pyplot as plt"
      ],
      "execution_count": 4,
      "outputs": []
    },
    {
      "cell_type": "markdown",
      "metadata": {
        "id": "5CQilzQ0jPQ2"
      },
      "source": [
        "### **Importando os dados**\n",
        "\n"
      ]
    },
    {
      "cell_type": "code",
      "metadata": {
        "id": "i56t3IjkCtFi",
        "colab": {
          "base_uri": "https://localhost:8080/"
        },
        "outputId": "f4b7b282-49de-45ad-9a1a-491acc2c05a3"
      },
      "source": [
        "df = pd.read_excel(\"/content/sample_data/teste00.xlsx\")\n",
        "print(df)"
      ],
      "execution_count": 5,
      "outputs": [
        {
          "output_type": "stream",
          "name": "stdout",
          "text": [
            "     x1   x2   y  tt\n",
            "0   0.0  0.0   0  tr\n",
            "1   0.0  2.0   2  tr\n",
            "2   0.0  4.0   4  tr\n",
            "3   0.0  6.0   6  tr\n",
            "4   2.0  0.0   2  tr\n",
            "5   2.0  2.0   4  tr\n",
            "6   2.0  4.0   6  tr\n",
            "7   2.0  6.0   8  tr\n",
            "8   4.0  0.0   4  tr\n",
            "9   4.0  2.0   6  tr\n",
            "10  4.0  4.0   8  tr\n",
            "11  4.0  6.0  10  tr\n",
            "12  6.0  0.0   6  tr\n",
            "13  6.0  2.0   8  tr\n",
            "14  6.0  4.0  10  tr\n",
            "15  6.0  6.0  12  tr\n",
            "16  1.0  1.0   2   v\n",
            "17  1.0  3.0   4   v\n",
            "18  1.0  5.0   6   v\n",
            "19  3.0  1.0   4   v\n",
            "20  3.0  3.0   6   v\n",
            "21  3.0  5.0   8   v\n",
            "22  5.0  1.0   6   v\n",
            "23  5.0  3.0   8   v\n",
            "24  5.0  5.0  10   v\n",
            "25  1.5  1.5   3  tt\n",
            "26  1.5  2.5   4  tt\n",
            "27  1.5  3.5   5  tt\n",
            "28  1.5  4.5   6  tt\n",
            "29  2.5  1.5   4  tt\n",
            "30  2.5  2.5   5  tt\n",
            "31  2.5  3.5   6  tt\n",
            "32  2.5  4.5   7  tt\n",
            "33  3.5  1.5   5  tt\n",
            "34  3.5  2.5   6  tt\n",
            "35  3.5  3.5   7  tt\n",
            "36  3.5  4.5   8  tt\n",
            "37  4.5  1.5   6  tt\n",
            "38  4.5  2.5   7  tt\n",
            "39  4.5  3.5   8  tt\n",
            "40  4.5  4.5   9  tt\n"
          ]
        }
      ]
    },
    {
      "cell_type": "markdown",
      "source": [
        "### **Extraindo conjuntos de treinamento, validação e teste**"
      ],
      "metadata": {
        "id": "a9m1AjinqHyV"
      }
    },
    {
      "cell_type": "code",
      "metadata": {
        "id": "rJ5QTMfTZxIS"
      },
      "source": [
        "X_train = df.iloc[0:16,0:2].astype(float)\n",
        "y_train = df.iloc[0:16,2].astype(float)\n",
        "X_valid = df.iloc[16:25,0:2].astype(float)\n",
        "y_valid = df.iloc[16:25,2].astype(float)\n",
        "X_test = df.iloc[25:41,0:2].astype(float)\n",
        "y_test = df.iloc[25:41,2].astype(float)"
      ],
      "execution_count": 8,
      "outputs": []
    },
    {
      "cell_type": "code",
      "metadata": {
        "id": "W7HhblvU_qKF",
        "colab": {
          "base_uri": "https://localhost:8080/"
        },
        "outputId": "7206aa45-8325-480e-85ba-d547441c03a7"
      },
      "source": [
        "print(y_valid)"
      ],
      "execution_count": 9,
      "outputs": [
        {
          "output_type": "stream",
          "name": "stdout",
          "text": [
            "16     2.0\n",
            "17     4.0\n",
            "18     6.0\n",
            "19     4.0\n",
            "20     6.0\n",
            "21     8.0\n",
            "22     6.0\n",
            "23     8.0\n",
            "24    10.0\n",
            "Name: y, dtype: float64\n"
          ]
        }
      ]
    },
    {
      "cell_type": "markdown",
      "metadata": {
        "id": "m_Pq3w3ykKIt"
      },
      "source": [
        "### **Criando os modelos das Redes Neurais Profundas**"
      ]
    },
    {
      "cell_type": "code",
      "source": [
        "seed = 123\n",
        "random.set_seed(seed)"
      ],
      "metadata": {
        "id": "RLy_Va-Qxpa8"
      },
      "execution_count": 13,
      "outputs": []
    },
    {
      "cell_type": "markdown",
      "source": [
        "Sigmoide"
      ],
      "metadata": {
        "id": "iAZGfLQ7vwTm"
      }
    },
    {
      "cell_type": "code",
      "metadata": {
        "id": "2A1sWioDMHle"
      },
      "source": [
        "model = models.Sequential()\n",
        "\n",
        "model.add(layers.Dense(10, activation='sigmoid', input_dim=2))\n",
        "\n",
        "model.add(layers.Dense(10, activation='sigmoid'))\n",
        "model.add(layers.Dense(10, activation='sigmoid'))\n",
        "model.add(layers.Dense(10, activation='sigmoid'))\n",
        "model.add(layers.Dense(10, activation='sigmoid'))\n",
        "\n",
        "model.add(layers.Dense(1, activation='linear'))\n",
        "\n",
        "# Otimizador\n",
        "model.compile(loss='mse', optimizer='Adam')\n",
        "\n",
        "#Resumo do Modelo\n",
        "#model.summary()"
      ],
      "execution_count": 14,
      "outputs": []
    },
    {
      "cell_type": "markdown",
      "source": [
        "ReLU"
      ],
      "metadata": {
        "id": "B1jq2DPSqwD_"
      }
    },
    {
      "cell_type": "code",
      "source": [
        "model2 = models.Sequential()\n",
        "\n",
        "model2.add(layers.Dense(10, activation='relu', input_dim=2))\n",
        "\n",
        "model2.add(layers.Dense(10, activation='relu'))\n",
        "model2.add(layers.Dense(10, activation='relu'))\n",
        "model2.add(layers.Dense(10, activation='relu'))\n",
        "model2.add(layers.Dense(10, activation='relu'))\n",
        "\n",
        "model2.add(layers.Dense(1, activation='linear'))\n",
        "\n",
        "# Otimizador\n",
        "model2.compile(loss='mse', optimizer='Adam')\n",
        "\n",
        "#Resumo do Modelo\n",
        "#model2.summary()"
      ],
      "metadata": {
        "id": "4F9JBo6WnwRa"
      },
      "execution_count": 15,
      "outputs": []
    },
    {
      "cell_type": "markdown",
      "source": [
        "### **Treinamento**"
      ],
      "metadata": {
        "id": "MjZ-gqoUp4bI"
      }
    },
    {
      "cell_type": "markdown",
      "source": [
        "Modelo com SIGMOIDE"
      ],
      "metadata": {
        "id": "GZZQpxXRtu3g"
      }
    },
    {
      "cell_type": "code",
      "metadata": {
        "id": "WHXh9BeWOkJ3"
      },
      "source": [
        "seed = 123\n",
        "random.set_seed(seed)\n",
        "history = model.fit(X_train, y_train, epochs=200, batch_size=1, validation_data=(X_valid, y_valid), shuffle=True, verbose=0)"
      ],
      "execution_count": 16,
      "outputs": []
    },
    {
      "cell_type": "markdown",
      "source": [
        "Modelo com RELU"
      ],
      "metadata": {
        "id": "CfFbEFCAtqpq"
      }
    },
    {
      "cell_type": "code",
      "source": [
        "seed = 123\n",
        "random.set_seed(seed)\n",
        "history2 = model2.fit(X_train, y_train, epochs=200, batch_size=1, validation_data=(X_valid, y_valid), shuffle=True, verbose=0)"
      ],
      "metadata": {
        "id": "rVuxg9Gito-c"
      },
      "execution_count": 17,
      "outputs": []
    },
    {
      "cell_type": "markdown",
      "metadata": {
        "id": "gL07zcCxk6vU"
      },
      "source": [
        "### **Plotando historicos de treinamento**"
      ]
    },
    {
      "cell_type": "code",
      "source": [
        "fig = plt.figure(figsize=(11,6))\n",
        "\n",
        "# Plot Sigmoide\n",
        "ax1 = fig.add_subplot(121)\n",
        "ax1.plot(history.history['loss'][0:200])\n",
        "ax1.plot(history.history['val_loss'][0:200])\n",
        "plt.title('Sigmoide')\n",
        "plt.ylabel('loss')\n",
        "plt.xlabel('epoch')\n",
        "plt.legend(['train', 'valid'], loc='upper left')\n",
        "plt.ylim([0,50])\n",
        "\n",
        "# Plot ReLU\n",
        "ax2 = fig.add_subplot(122)\n",
        "ax2.plot(history2.history['loss'][0:200])\n",
        "ax2.plot(history2.history['val_loss'][0:200])\n",
        "plt.title('ReLU')\n",
        "plt.ylabel('loss')\n",
        "plt.xlabel('epoch')\n",
        "plt.legend(['train', 'valid'], loc='upper left')\n",
        "plt.ylim([0,50])\n",
        "\n",
        "plt.show()"
      ],
      "metadata": {
        "colab": {
          "base_uri": "https://localhost:8080/",
          "height": 404
        },
        "id": "AzPbldkmufkU",
        "outputId": "398d6b21-5b23-408c-ab1f-87c46115fda2"
      },
      "execution_count": 19,
      "outputs": [
        {
          "output_type": "display_data",
          "data": {
            "text/plain": [
              "<Figure size 792x432 with 2 Axes>"
            ],
            "image/png": "[encoded data removed]"
          },
          "metadata": {
            "needs_background": "light"
          }
        }
      ]
    },
    {
      "cell_type": "markdown",
      "metadata": {
        "id": "WobfiqzOktm8"
      },
      "source": [
        "### **Aplicando a Rede Neural treinada**"
      ]
    },
    {
      "cell_type": "markdown",
      "source": [
        "Sigmoide"
      ],
      "metadata": {
        "id": "dR8XX04SzyCJ"
      }
    },
    {
      "cell_type": "code",
      "metadata": {
        "id": "X7FjF4fCPy5g"
      },
      "source": [
        "y_pred = model.predict(X_test)"
      ],
      "execution_count": 20,
      "outputs": []
    },
    {
      "cell_type": "markdown",
      "source": [
        "ReLU"
      ],
      "metadata": {
        "id": "1un8pM7Xz0I5"
      }
    },
    {
      "cell_type": "code",
      "source": [
        "y_pred2 = model2.predict(X_test)"
      ],
      "metadata": {
        "id": "5jsqWt71z11C"
      },
      "execution_count": 21,
      "outputs": []
    },
    {
      "cell_type": "markdown",
      "metadata": {
        "id": "2BPcCkrSk1EL"
      },
      "source": [
        "### **Medidas de performance**"
      ]
    },
    {
      "cell_type": "markdown",
      "source": [
        "Erros e correlações"
      ],
      "metadata": {
        "id": "a-qJxJgA7XS7"
      }
    },
    {
      "cell_type": "code",
      "metadata": {
        "id": "V7DvpCb5f1kY",
        "colab": {
          "base_uri": "https://localhost:8080/",
          "height": 112
        },
        "outputId": "be601e76-88bd-4a5a-ce51-6eb68aba13ed"
      },
      "source": [
        "from sklearn.metrics import mean_absolute_error, mean_squared_error, r2_score, explained_variance_score #Métricas de Avaliação de Desempenho\n",
        "\n",
        "res = pd.DataFrame(\n",
        "    {\n",
        "        'MAE':[mean_absolute_error(y_test, y_pred), mean_absolute_error(y_test, y_pred2)],\n",
        "        'MSE':[mean_squared_error(y_test, y_pred), mean_squared_error(y_test, y_pred2)], \n",
        "        'R2_Score': [r2_score(y_test, y_pred), r2_score(y_test, y_pred2)]\n",
        "    })\n",
        "res\n"
      ],
      "execution_count": 25,
      "outputs": [
        {
          "output_type": "execute_result",
          "data": {
            "text/plain": [
              "        MAE       MSE  R2_Score\n",
              "0  1.252636  2.499615  0.000154\n",
              "1  0.020708  0.000875  0.999650"
            ],
            "text/html": [
              "\n",
              "  <div id=\"df-b7f1a75c-0c54-46d1-ba19-faa51459a281\">\n",
              "    <div class=\"colab-df-container\">\n",
              "      <div>\n",
              "<style scoped>\n",
              "    .dataframe tbody tr th:only-of-type {\n",
              "        vertical-align: middle;\n",
              "    }\n",
              "\n",
              "    .dataframe tbody tr th {\n",
              "        vertical-align: top;\n",
              "    }\n",
              "\n",
              "    .dataframe thead th {\n",
              "        text-align: right;\n",
              "    }\n",
              "</style>\n",
              "<table border=\"1\" class=\"dataframe\">\n",
              "  <thead>\n",
              "    <tr style=\"text-align: right;\">\n",
              "      <th></th>\n",
              "      <th>MAE</th>\n",
              "      <th>MSE</th>\n",
              "      <th>R2_Score</th>\n",
              "    </tr>\n",
              "  </thead>\n",
              "  <tbody>\n",
              "    <tr>\n",
              "      <th>0</th>\n",
              "      <td>1.252636</td>\n",
              "      <td>2.499615</td>\n",
              "      <td>0.000154</td>\n",
              "    </tr>\n",
              "    <tr>\n",
              "      <th>1</th>\n",
              "      <td>0.020708</td>\n",
              "      <td>0.000875</td>\n",
              "      <td>0.999650</td>\n",
              "    </tr>\n",
              "  </tbody>\n",
              "</table>\n",
              "</div>\n",
              "      <button class=\"colab-df-convert\" onclick=\"convertToInteractive('df-b7f1a75c-0c54-46d1-ba19-faa51459a281')\"\n",
              "              title=\"Convert this dataframe to an interactive table.\"\n",
              "              style=\"display:none;\">\n",
              "        \n",
              "  <svg xmlns=\"http://www.w3.org/2000/svg\" height=\"24px\"viewBox=\"0 0 24 24\"\n",
              "       width=\"24px\">\n",
              "    <path d=\"M0 0h24v24H0V0z\" fill=\"none\"/>\n",
              "    <path d=\"M18.56 5.44l.94 2.06.94-2.06 2.06-.94-2.06-.94-.94-2.06-.94 2.06-2.06.94zm-11 1L8.5 8.5l.94-2.06 2.06-.94-2.06-.94L8.5 2.5l-.94 2.06-2.06.94zm10 10l.94 2.06.94-2.06 2.06-.94-2.06-.94-.94-2.06-.94 2.06-2.06.94z\"/><path d=\"M17.41 7.96l-1.37-1.37c-.4-.4-.92-.59-1.43-.59-.52 0-1.04.2-1.43.59L10.3 9.45l-7.72 7.72c-.78.78-.78 2.05 0 2.83L4 21.41c.39.39.9.59 1.41.59.51 0 1.02-.2 1.41-.59l7.78-7.78 2.81-2.81c.8-.78.8-2.07 0-2.86zM5.41 20L4 18.59l7.72-7.72 1.47 1.35L5.41 20z\"/>\n",
              "  </svg>\n",
              "      </button>\n",
              "      \n",
              "  <style>\n",
              "    .colab-df-container {\n",
              "      display:flex;\n",
              "      flex-wrap:wrap;\n",
              "      gap: 12px;\n",
              "    }\n",
              "\n",
              "    .colab-df-convert {\n",
              "      background-color: #E8F0FE;\n",
              "      border: none;\n",
              "      border-radius: 50%;\n",
              "      cursor: pointer;\n",
              "      display: none;\n",
              "      fill: #1967D2;\n",
              "      height: 32px;\n",
              "      padding: 0 0 0 0;\n",
              "      width: 32px;\n",
              "    }\n",
              "\n",
              "    .colab-df-convert:hover {\n",
              "      background-color: #E2EBFA;\n",
              "      box-shadow: 0px 1px 2px rgba(60, 64, 67, 0.3), 0px 1px 3px 1px rgba(60, 64, 67, 0.15);\n",
              "      fill: #174EA6;\n",
              "    }\n",
              "\n",
              "    [theme=dark] .colab-df-convert {\n",
              "      background-color: #3B4455;\n",
              "      fill: #D2E3FC;\n",
              "    }\n",
              "\n",
              "    [theme=dark] .colab-df-convert:hover {\n",
              "      background-color: #434B5C;\n",
              "      box-shadow: 0px 1px 3px 1px rgba(0, 0, 0, 0.15);\n",
              "      filter: drop-shadow(0px 1px 2px rgba(0, 0, 0, 0.3));\n",
              "      fill: #FFFFFF;\n",
              "    }\n",
              "  </style>\n",
              "\n",
              "      <script>\n",
              "        const buttonEl =\n",
              "          document.querySelector('#df-b7f1a75c-0c54-46d1-ba19-faa51459a281 button.colab-df-convert');\n",
              "        buttonEl.style.display =\n",
              "          google.colab.kernel.accessAllowed ? 'block' : 'none';\n",
              "\n",
              "        async function convertToInteractive(key) {\n",
              "          const element = document.querySelector('#df-b7f1a75c-0c54-46d1-ba19-faa51459a281');\n",
              "          const dataTable =\n",
              "            await google.colab.kernel.invokeFunction('convertToInteractive',\n",
              "                                                     [key], {});\n",
              "          if (!dataTable) return;\n",
              "\n",
              "          const docLinkHtml = 'Like what you see? Visit the ' +\n",
              "            '<a target=\"_blank\" href=https://colab.research.google.com/notebooks/data_table.ipynb>data table notebook</a>'\n",
              "            + ' to learn more about interactive tables.';\n",
              "          element.innerHTML = '';\n",
              "          dataTable['output_type'] = 'display_data';\n",
              "          await google.colab.output.renderOutput(dataTable, element);\n",
              "          const docLink = document.createElement('div');\n",
              "          docLink.innerHTML = docLinkHtml;\n",
              "          element.appendChild(docLink);\n",
              "        }\n",
              "      </script>\n",
              "    </div>\n",
              "  </div>\n",
              "  "
            ]
          },
          "metadata": {},
          "execution_count": 25
        }
      ]
    },
    {
      "cell_type": "markdown",
      "metadata": {
        "id": "9I92Fio0lMHZ"
      },
      "source": [
        "**Arrumando os dados para imprimir y_pred e y_test**"
      ]
    },
    {
      "cell_type": "code",
      "metadata": {
        "id": "DS8-Zpi2UXhT",
        "colab": {
          "base_uri": "https://localhost:8080/",
          "height": 551
        },
        "outputId": "524770a2-1861-4cae-c583-70d95b1fa591"
      },
      "source": [
        "y_p = []\n",
        "y_p2 = []\n",
        "for i in range(16):\n",
        "  y_p.append(y_pred[i][0])\n",
        "  y_p2.append(y_pred2[i][0])\n",
        "res = pd.DataFrame({'x':range(16),'y_test':y_test, 'y_pred (sig)':y_p, 'y_pred2 (Relu)':y_p2, })\n",
        "res"
      ],
      "execution_count": 26,
      "outputs": [
        {
          "output_type": "execute_result",
          "data": {
            "text/plain": [
              "     x  y_test  y_pred (sig)  y_pred2 (Relu)\n",
              "25   0     3.0      5.988564        3.005440\n",
              "26   1     4.0      5.988713        4.030208\n",
              "27   2     5.0      5.988831        4.992161\n",
              "28   3     6.0      5.988921        5.992887\n",
              "29   4     4.0      5.988729        3.995103\n",
              "30   5     5.0      5.988858        5.008060\n",
              "31   6     6.0      5.988958        5.964842\n",
              "32   7     7.0      5.989034        7.012416\n",
              "33   8     5.0      5.988858        4.982796\n",
              "34   9     6.0      5.988969        6.027647\n",
              "35  10     7.0      5.989055        6.998486\n",
              "36  11     8.0      5.989120        7.907886\n",
              "37  12     6.0      5.988956        5.968787\n",
              "38  13     7.0      5.989052        7.024058\n",
              "39  14     8.0      5.989127        8.015361\n",
              "40  15     9.0      5.989182        8.988914"
            ],
            "text/html": [
              "\n",
              "  <div id=\"df-6634fe65-8e05-474d-88ae-9c561fe7b9e8\">\n",
              "    <div class=\"colab-df-container\">\n",
              "      <div>\n",
              "<style scoped>\n",
              "    .dataframe tbody tr th:only-of-type {\n",
              "        vertical-align: middle;\n",
              "    }\n",
              "\n",
              "    .dataframe tbody tr th {\n",
              "        vertical-align: top;\n",
              "    }\n",
              "\n",
              "    .dataframe thead th {\n",
              "        text-align: right;\n",
              "    }\n",
              "</style>\n",
              "<table border=\"1\" class=\"dataframe\">\n",
              "  <thead>\n",
              "    <tr style=\"text-align: right;\">\n",
              "      <th></th>\n",
              "      <th>x</th>\n",
              "      <th>y_test</th>\n",
              "      <th>y_pred (sig)</th>\n",
              "      <th>y_pred2 (Relu)</th>\n",
              "    </tr>\n",
              "  </thead>\n",
              "  <tbody>\n",
              "    <tr>\n",
              "      <th>25</th>\n",
              "      <td>0</td>\n",
              "      <td>3.0</td>\n",
              "      <td>5.988564</td>\n",
              "      <td>3.005440</td>\n",
              "    </tr>\n",
              "    <tr>\n",
              "      <th>26</th>\n",
              "      <td>1</td>\n",
              "      <td>4.0</td>\n",
              "      <td>5.988713</td>\n",
              "      <td>4.030208</td>\n",
              "    </tr>\n",
              "    <tr>\n",
              "      <th>27</th>\n",
              "      <td>2</td>\n",
              "      <td>5.0</td>\n",
              "      <td>5.988831</td>\n",
              "      <td>4.992161</td>\n",
              "    </tr>\n",
              "    <tr>\n",
              "      <th>28</th>\n",
              "      <td>3</td>\n",
              "      <td>6.0</td>\n",
              "      <td>5.988921</td>\n",
              "      <td>5.992887</td>\n",
              "    </tr>\n",
              "    <tr>\n",
              "      <th>29</th>\n",
              "      <td>4</td>\n",
              "      <td>4.0</td>\n",
              "      <td>5.988729</td>\n",
              "      <td>3.995103</td>\n",
              "    </tr>\n",
              "    <tr>\n",
              "      <th>30</th>\n",
              "      <td>5</td>\n",
              "      <td>5.0</td>\n",
              "      <td>5.988858</td>\n",
              "      <td>5.008060</td>\n",
              "    </tr>\n",
              "    <tr>\n",
              "      <th>31</th>\n",
              "      <td>6</td>\n",
              "      <td>6.0</td>\n",
              "      <td>5.988958</td>\n",
              "      <td>5.964842</td>\n",
              "    </tr>\n",
              "    <tr>\n",
              "      <th>32</th>\n",
              "      <td>7</td>\n",
              "      <td>7.0</td>\n",
              "      <td>5.989034</td>\n",
              "      <td>7.012416</td>\n",
              "    </tr>\n",
              "    <tr>\n",
              "      <th>33</th>\n",
              "      <td>8</td>\n",
              "      <td>5.0</td>\n",
              "      <td>5.988858</td>\n",
              "      <td>4.982796</td>\n",
              "    </tr>\n",
              "    <tr>\n",
              "      <th>34</th>\n",
              "      <td>9</td>\n",
              "      <td>6.0</td>\n",
              "      <td>5.988969</td>\n",
              "      <td>6.027647</td>\n",
              "    </tr>\n",
              "    <tr>\n",
              "      <th>35</th>\n",
              "      <td>10</td>\n",
              "      <td>7.0</td>\n",
              "      <td>5.989055</td>\n",
              "      <td>6.998486</td>\n",
              "    </tr>\n",
              "    <tr>\n",
              "      <th>36</th>\n",
              "      <td>11</td>\n",
              "      <td>8.0</td>\n",
              "      <td>5.989120</td>\n",
              "      <td>7.907886</td>\n",
              "    </tr>\n",
              "    <tr>\n",
              "      <th>37</th>\n",
              "      <td>12</td>\n",
              "      <td>6.0</td>\n",
              "      <td>5.988956</td>\n",
              "      <td>5.968787</td>\n",
              "    </tr>\n",
              "    <tr>\n",
              "      <th>38</th>\n",
              "      <td>13</td>\n",
              "      <td>7.0</td>\n",
              "      <td>5.989052</td>\n",
              "      <td>7.024058</td>\n",
              "    </tr>\n",
              "    <tr>\n",
              "      <th>39</th>\n",
              "      <td>14</td>\n",
              "      <td>8.0</td>\n",
              "      <td>5.989127</td>\n",
              "      <td>8.015361</td>\n",
              "    </tr>\n",
              "    <tr>\n",
              "      <th>40</th>\n",
              "      <td>15</td>\n",
              "      <td>9.0</td>\n",
              "      <td>5.989182</td>\n",
              "      <td>8.988914</td>\n",
              "    </tr>\n",
              "  </tbody>\n",
              "</table>\n",
              "</div>\n",
              "      <button class=\"colab-df-convert\" onclick=\"convertToInteractive('df-6634fe65-8e05-474d-88ae-9c561fe7b9e8')\"\n",
              "              title=\"Convert this dataframe to an interactive table.\"\n",
              "              style=\"display:none;\">\n",
              "        \n",
              "  <svg xmlns=\"http://www.w3.org/2000/svg\" height=\"24px\"viewBox=\"0 0 24 24\"\n",
              "       width=\"24px\">\n",
              "    <path d=\"M0 0h24v24H0V0z\" fill=\"none\"/>\n",
              "    <path d=\"M18.56 5.44l.94 2.06.94-2.06 2.06-.94-2.06-.94-.94-2.06-.94 2.06-2.06.94zm-11 1L8.5 8.5l.94-2.06 2.06-.94-2.06-.94L8.5 2.5l-.94 2.06-2.06.94zm10 10l.94 2.06.94-2.06 2.06-.94-2.06-.94-.94-2.06-.94 2.06-2.06.94z\"/><path d=\"M17.41 7.96l-1.37-1.37c-.4-.4-.92-.59-1.43-.59-.52 0-1.04.2-1.43.59L10.3 9.45l-7.72 7.72c-.78.78-.78 2.05 0 2.83L4 21.41c.39.39.9.59 1.41.59.51 0 1.02-.2 1.41-.59l7.78-7.78 2.81-2.81c.8-.78.8-2.07 0-2.86zM5.41 20L4 18.59l7.72-7.72 1.47 1.35L5.41 20z\"/>\n",
              "  </svg>\n",
              "      </button>\n",
              "      \n",
              "  <style>\n",
              "    .colab-df-container {\n",
              "      display:flex;\n",
              "      flex-wrap:wrap;\n",
              "      gap: 12px;\n",
              "    }\n",
              "\n",
              "    .colab-df-convert {\n",
              "      background-color: #E8F0FE;\n",
              "      border: none;\n",
              "      border-radius: 50%;\n",
              "      cursor: pointer;\n",
              "      display: none;\n",
              "      fill: #1967D2;\n",
              "      height: 32px;\n",
              "      padding: 0 0 0 0;\n",
              "      width: 32px;\n",
              "    }\n",
              "\n",
              "    .colab-df-convert:hover {\n",
              "      background-color: #E2EBFA;\n",
              "      box-shadow: 0px 1px 2px rgba(60, 64, 67, 0.3), 0px 1px 3px 1px rgba(60, 64, 67, 0.15);\n",
              "      fill: #174EA6;\n",
              "    }\n",
              "\n",
              "    [theme=dark] .colab-df-convert {\n",
              "      background-color: #3B4455;\n",
              "      fill: #D2E3FC;\n",
              "    }\n",
              "\n",
              "    [theme=dark] .colab-df-convert:hover {\n",
              "      background-color: #434B5C;\n",
              "      box-shadow: 0px 1px 3px 1px rgba(0, 0, 0, 0.15);\n",
              "      filter: drop-shadow(0px 1px 2px rgba(0, 0, 0, 0.3));\n",
              "      fill: #FFFFFF;\n",
              "    }\n",
              "  </style>\n",
              "\n",
              "      <script>\n",
              "        const buttonEl =\n",
              "          document.querySelector('#df-6634fe65-8e05-474d-88ae-9c561fe7b9e8 button.colab-df-convert');\n",
              "        buttonEl.style.display =\n",
              "          google.colab.kernel.accessAllowed ? 'block' : 'none';\n",
              "\n",
              "        async function convertToInteractive(key) {\n",
              "          const element = document.querySelector('#df-6634fe65-8e05-474d-88ae-9c561fe7b9e8');\n",
              "          const dataTable =\n",
              "            await google.colab.kernel.invokeFunction('convertToInteractive',\n",
              "                                                     [key], {});\n",
              "          if (!dataTable) return;\n",
              "\n",
              "          const docLinkHtml = 'Like what you see? Visit the ' +\n",
              "            '<a target=\"_blank\" href=https://colab.research.google.com/notebooks/data_table.ipynb>data table notebook</a>'\n",
              "            + ' to learn more about interactive tables.';\n",
              "          element.innerHTML = '';\n",
              "          dataTable['output_type'] = 'display_data';\n",
              "          await google.colab.output.renderOutput(dataTable, element);\n",
              "          const docLink = document.createElement('div');\n",
              "          docLink.innerHTML = docLinkHtml;\n",
              "          element.appendChild(docLink);\n",
              "        }\n",
              "      </script>\n",
              "    </div>\n",
              "  </div>\n",
              "  "
            ]
          },
          "metadata": {},
          "execution_count": 26
        }
      ]
    },
    {
      "cell_type": "markdown",
      "metadata": {
        "id": "nslZ72RGnmSB"
      },
      "source": [
        "**Plotando y_pred e y_test**"
      ]
    },
    {
      "cell_type": "code",
      "source": [
        "fig = plt.figure(figsize=(11,8))\n",
        "\n",
        "# Plot Sigmoide\n",
        "ax1 = fig.add_subplot(221)\n",
        "ax1.plot(range(16),y_pred, 'o')\n",
        "ax1.plot(range(16), y_test, 'x')\n",
        "plt.title('Sigmoide')\n",
        "plt.ylabel('y')\n",
        "plt.xlabel('Padrão')\n",
        "plt.legend(['y_pred', 'y_test'], loc='upper left')\n",
        "\n",
        "# Plot ReLU\n",
        "ax2 = fig.add_subplot(222)\n",
        "ax2.plot(range(16),y_pred2, 'o')\n",
        "ax2.plot(range(16), y_test, 'x')\n",
        "plt.title('ReLU')\n",
        "plt.ylabel('y')\n",
        "plt.xlabel('Padrão')\n",
        "plt.legend(['y_pred', 'y_test'], loc='upper left')\n",
        "\n",
        "# Plot Sigmoide\n",
        "ax3 = fig.add_subplot(223)\n",
        "ax3.scatter(y_test,y_pred)\n",
        "ax3.plot(y_test,y_test,'r')\n",
        "#plt.title('Sigmoide')\n",
        "plt.ylabel('y')\n",
        "plt.xlabel('Padrão')\n",
        "plt.legend(['y_pred', 'y_test'], loc='upper left')\n",
        "\n",
        "# Plot ReLU\n",
        "ax4 = fig.add_subplot(224)\n",
        "ax4.scatter(y_test,y_pred2)\n",
        "ax4.plot(y_test,y_test,'r')\n",
        "#plt.title('ReLU')\n",
        "plt.ylabel('y')\n",
        "plt.xlabel('Padrão')\n",
        "plt.legend(['y_pred', 'y_test'], loc='upper left')\n",
        "\n",
        "plt.show()"
      ],
      "metadata": {
        "colab": {
          "base_uri": "https://localhost:8080/",
          "height": 513
        },
        "id": "QpSM9ia-1r3s",
        "outputId": "d397139a-5805-4265-fc0d-2f5eef4a5be8"
      },
      "execution_count": 31,
      "outputs": [
        {
          "output_type": "display_data",
          "data": {
            "text/plain": [
              "<Figure size 792x576 with 4 Axes>"
            ],
            "image/png": "[encoded data removed]"
          },
          "metadata": {
            "needs_background": "light"
          }
        }
      ]
    },
    {
      "cell_type": "code",
      "metadata": {
        "id": "3pIZVgrjfb1I",
        "colab": {
          "base_uri": "https://localhost:8080/",
          "height": 279
        },
        "outputId": "9c2bfe16-6bab-4e9b-e12b-fa33c6cbc916"
      },
      "source": [
        "plt.plot(range(16),y_pred, 'o')\n",
        "plt.plot(range(16), y_test, 'x')\n",
        "plt.ylabel('y')\n",
        "plt.xlabel('Padrão')\n",
        "plt.legend(['y_pred', 'y_test'], loc='upper left')\n",
        "plt.show()"
      ],
      "execution_count": 82,
      "outputs": [
        {
          "output_type": "display_data",
          "data": {
            "text/plain": [
              "<Figure size 432x288 with 1 Axes>"
            ],
            "image/png": "[encoded data removed]"
          },
          "metadata": {
            "needs_background": "light"
          }
        }
      ]
    },
    {
      "cell_type": "code",
      "metadata": {
        "id": "0vem40xrjG9k",
        "colab": {
          "base_uri": "https://localhost:8080/",
          "height": 297
        },
        "outputId": "295ff592-72af-4af1-b41e-b754694bf88e"
      },
      "source": [
        "plt.scatter(y_test,y_pred)\n",
        "plt.plot(y_test,y_test,'r')\n",
        "plt.ylabel('y')\n",
        "plt.xlabel('Padrão')\n",
        "plt.legend(['y_pred', 'y_test'], loc='upper left')"
      ],
      "execution_count": 84,
      "outputs": [
        {
          "output_type": "execute_result",
          "data": {
            "text/plain": [
              "<matplotlib.legend.Legend at 0x7f5ab663a890>"
            ]
          },
          "metadata": {},
          "execution_count": 84
        },
        {
          "output_type": "display_data",
          "data": {
            "text/plain": [
              "<Figure size 432x288 with 1 Axes>"
            ],
            "image/png": "[encoded data removed]"
          },
          "metadata": {
            "needs_background": "light"
          }
        }
      ]
    }
  ]
}