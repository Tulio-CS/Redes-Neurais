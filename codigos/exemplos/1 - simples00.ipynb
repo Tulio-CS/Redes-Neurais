{
  "nbformat": 4,
  "nbformat_minor": 0,
  "metadata": {
    "colab": {
      "name": "simples00.ipynb",
      "provenance": [],
      "collapsed_sections": []
    },
    "kernelspec": {
      "name": "python3",
      "display_name": "Python 3"
    }
  },
  "cells": [
    {
      "cell_type": "markdown",
      "source": [
        "# **Rede Neural Simples**"
      ],
      "metadata": {
        "id": "dNFJrVoMP2cu"
      }
    },
    {
      "cell_type": "markdown",
      "metadata": {
        "id": "5CQilzQ0jPQ2"
      },
      "source": [
        "**Importando os dados com Pandas**"
      ]
    },
    {
      "cell_type": "code",
      "metadata": {
        "id": "i56t3IjkCtFi",
        "colab": {
          "base_uri": "https://localhost:8080/"
        },
        "outputId": "b9b971bf-29ba-41e8-9bdb-efb9d535b1c0"
      },
      "source": [
        "import pandas as pd\n",
        "df = pd.read_excel(\"/content/sample_data/teste00.xlsx\")\n",
        "print(df)"
      ],
      "execution_count": 23,
      "outputs": [
        {
          "output_type": "stream",
          "name": "stdout",
          "text": [
            "     x1   x2   y  tt\n",
            "0   0.0  0.0   0  tr\n",
            "1   0.0  2.0   2  tr\n",
            "2   0.0  4.0   4  tr\n",
            "3   0.0  6.0   6  tr\n",
            "4   2.0  0.0   2  tr\n",
            "5   2.0  2.0   4  tr\n",
            "6   2.0  4.0   6  tr\n",
            "7   2.0  6.0   8  tr\n",
            "8   4.0  0.0   4  tr\n",
            "9   4.0  2.0   6  tr\n",
            "10  4.0  4.0   8  tr\n",
            "11  4.0  6.0  10  tr\n",
            "12  6.0  0.0   6  tr\n",
            "13  6.0  2.0   8  tr\n",
            "14  6.0  4.0  10  tr\n",
            "15  6.0  6.0  12  tr\n",
            "16  1.0  1.0   2   v\n",
            "17  1.0  3.0   4   v\n",
            "18  1.0  5.0   6   v\n",
            "19  3.0  1.0   4   v\n",
            "20  3.0  3.0   6   v\n",
            "21  3.0  5.0   8   v\n",
            "22  5.0  1.0   6   v\n",
            "23  5.0  3.0   8   v\n",
            "24  5.0  5.0  10   v\n",
            "25  1.5  1.5   3  tt\n",
            "26  1.5  2.5   4  tt\n",
            "27  1.5  3.5   5  tt\n",
            "28  1.5  4.5   6  tt\n",
            "29  2.5  1.5   4  tt\n",
            "30  2.5  2.5   5  tt\n",
            "31  2.5  3.5   6  tt\n",
            "32  2.5  4.5   7  tt\n",
            "33  3.5  1.5   5  tt\n",
            "34  3.5  2.5   6  tt\n",
            "35  3.5  3.5   7  tt\n",
            "36  3.5  4.5   8  tt\n",
            "37  4.5  1.5   6  tt\n",
            "38  4.5  2.5   7  tt\n",
            "39  4.5  3.5   8  tt\n",
            "40  4.5  4.5   9  tt\n"
          ]
        }
      ]
    },
    {
      "cell_type": "code",
      "metadata": {
        "id": "rJ5QTMfTZxIS"
      },
      "source": [
        "X_train = df.iloc[0:16,0:2].astype(float)\n",
        "y_train = df.iloc[0:16,2].astype(float)\n",
        "X_valid = df.iloc[16:25,0:2].astype(float)\n",
        "y_valid = df.iloc[16:25,2].astype(float)\n",
        "X_test = df.iloc[25:41,0:2].astype(float)\n",
        "y_test = df.iloc[25:41,2].astype(float)\n",
        "#print(X_test)"
      ],
      "execution_count": 24,
      "outputs": []
    },
    {
      "cell_type": "markdown",
      "metadata": {
        "id": "QoeOVKnsjtmF"
      },
      "source": [
        "**Importando TensorFlow e NumPy**"
      ]
    },
    {
      "cell_type": "code",
      "metadata": {
        "id": "hxTpBq6wj-Xf"
      },
      "source": [
        "from tensorflow import random\n",
        "from tensorflow.keras import layers, models, optimizers\n",
        "import numpy as np #Manipução de Arrays"
      ],
      "execution_count": 34,
      "outputs": []
    },
    {
      "cell_type": "markdown",
      "metadata": {
        "id": "5FZo1BwOj_DS"
      },
      "source": [
        "**Inicializando semente aleatoria**"
      ]
    },
    {
      "cell_type": "code",
      "metadata": {
        "id": "V6r1IZaM50iz"
      },
      "source": [
        "seed = 123\n",
        "np.random.seed(seed)\n",
        "random.set_seed(seed)"
      ],
      "execution_count": 54,
      "outputs": []
    },
    {
      "cell_type": "markdown",
      "metadata": {
        "id": "m_Pq3w3ykKIt"
      },
      "source": [
        "**Criando modelo da Rede Neural (multicamadas)**"
      ]
    },
    {
      "cell_type": "code",
      "metadata": {
        "id": "2A1sWioDMHle"
      },
      "source": [
        "model = models.Sequential()\n",
        "\n",
        "#Camada de Entrada & Camada Escondida_1\n",
        "model.add(layers.Dense(10, activation='sigmoid', input_dim=2))\n",
        "\n",
        "#Camada de Saida\n",
        "model.add(layers.Dense(1, activation='linear'))\n",
        "\n",
        "#Resumo do Modelo\n",
        "#model.summary()"
      ],
      "execution_count": 55,
      "outputs": []
    },
    {
      "cell_type": "markdown",
      "metadata": {
        "id": "i4y3RtxlkWjt"
      },
      "source": [
        "**Definição do algoritmo de aprendizado**"
      ]
    },
    {
      "cell_type": "code",
      "metadata": {
        "id": "F_0siXDPM3ip"
      },
      "source": [
        "#Tipo de Otimizador\n",
        "optimizer = optimizers.SGD(learning_rate=0.001, momentum=0.5)\n",
        "model.compile(loss='mse', optimizer=optimizer)"
      ],
      "execution_count": 56,
      "outputs": []
    },
    {
      "cell_type": "markdown",
      "metadata": {
        "id": "7NaxQbyNkoUl"
      },
      "source": [
        "**Treinamento da Rede Neural**"
      ]
    },
    {
      "cell_type": "code",
      "metadata": {
        "id": "WHXh9BeWOkJ3"
      },
      "source": [
        "history = model.fit(X_train, y_train, epochs=400, batch_size=1, validation_data=(X_valid, y_valid),\n",
        "          shuffle=True, verbose=0)"
      ],
      "execution_count": 57,
      "outputs": []
    },
    {
      "cell_type": "markdown",
      "metadata": {
        "id": "gL07zcCxk6vU"
      },
      "source": [
        "**Plotando historico de treinamento**"
      ]
    },
    {
      "cell_type": "code",
      "metadata": {
        "id": "6HXIBw-yvEAD",
        "colab": {
          "base_uri": "https://localhost:8080/",
          "height": 295
        },
        "outputId": "1731d68d-20f6-411d-d272-3cfa9c6c75f2"
      },
      "source": [
        "import matplotlib.pyplot as plt #Para Gerar Plots\n",
        "\n",
        "plt.plot(history.history['loss'])\n",
        "plt.plot(history.history['val_loss'])\n",
        "plt.title('model loss')\n",
        "plt.ylabel('loss')\n",
        "plt.xlabel('epoch')\n",
        "plt.legend(['train', 'test'], loc='upper left')\n",
        "plt.show()"
      ],
      "execution_count": 61,
      "outputs": [
        {
          "output_type": "display_data",
          "data": {
            "text/plain": [
              "<Figure size 432x288 with 1 Axes>"
            ],
            "image/png": "[encoded data removed]"
          },
          "metadata": {
            "needs_background": "light"
          }
        }
      ]
    },
    {
      "cell_type": "markdown",
      "metadata": {
        "id": "WobfiqzOktm8"
      },
      "source": [
        "**Utilizando a Rede Neural treinada**"
      ]
    },
    {
      "cell_type": "code",
      "metadata": {
        "id": "X7FjF4fCPy5g",
        "colab": {
          "base_uri": "https://localhost:8080/"
        },
        "outputId": "321b2aec-20c3-4cf5-b1b4-e31bbbf99b27"
      },
      "source": [
        "y_pred = model.predict(X_test)"
      ],
      "execution_count": 58,
      "outputs": [
        {
          "output_type": "stream",
          "name": "stdout",
          "text": [
            "WARNING:tensorflow:6 out of the last 6 calls to <function Model.make_predict_function.<locals>.predict_function at 0x7f81b6423950> triggered tf.function retracing. Tracing is expensive and the excessive number of tracings could be due to (1) creating @tf.function repeatedly in a loop, (2) passing tensors with different shapes, (3) passing Python objects instead of tensors. For (1), please define your @tf.function outside of the loop. For (2), @tf.function has experimental_relax_shapes=True option that relaxes argument shapes that can avoid unnecessary retracing. For (3), please refer to https://www.tensorflow.org/guide/function#controlling_retracing and https://www.tensorflow.org/api_docs/python/tf/function for  more details.\n"
          ]
        }
      ]
    },
    {
      "cell_type": "code",
      "metadata": {
        "id": "BxiOzN2HUCEc"
      },
      "source": [
        "print(y_pred)"
      ],
      "execution_count": null,
      "outputs": []
    },
    {
      "cell_type": "markdown",
      "metadata": {
        "id": "2BPcCkrSk1EL"
      },
      "source": [
        "**Medidas de performance**"
      ]
    },
    {
      "cell_type": "code",
      "metadata": {
        "id": "V7DvpCb5f1kY",
        "colab": {
          "base_uri": "https://localhost:8080/"
        },
        "outputId": "a607065b-9f6e-4304-c4cc-51b2aefeab90"
      },
      "source": [
        "from sklearn.metrics import mean_absolute_error, mean_squared_error, r2_score\n",
        "\n",
        "print('MAE:', mean_absolute_error(y_test, y_pred))  \n",
        "print('MSE:', mean_squared_error(y_test, y_pred))  \n",
        "print('R2_Score:', r2_score(y_test, y_pred))"
      ],
      "execution_count": 75,
      "outputs": [
        {
          "output_type": "stream",
          "name": "stdout",
          "text": [
            "MAE: 0.21185970306396484\n",
            "MSE: 0.054850635333849596\n",
            "R2_Score: 0.9780597458664602\n"
          ]
        }
      ]
    },
    {
      "cell_type": "markdown",
      "metadata": {
        "id": "9I92Fio0lMHZ"
      },
      "source": [
        "**Arrumando os dados para imprimir y_pred e y_test**"
      ]
    },
    {
      "cell_type": "code",
      "source": [
        "y_t = np.array(y_test).reshape(y_test.shape[0],)\n",
        "y_p = np.array(y_pred).reshape(y_pred.shape[0],)\n",
        "df_cmp = pd.DataFrame({'y_test':y_t, 'y_pred':y_p})\n",
        "df_cmp"
      ],
      "metadata": {
        "colab": {
          "base_uri": "https://localhost:8080/",
          "height": 551
        },
        "id": "ltrBM0CLOBj3",
        "outputId": "ee987990-1ad4-4cfb-bf39-7cda1bb96dd1"
      },
      "execution_count": 77,
      "outputs": [
        {
          "output_type": "execute_result",
          "data": {
            "text/plain": [
              "    y_test    y_pred\n",
              "0      3.0  2.957965\n",
              "1      4.0  4.067776\n",
              "2      5.0  5.153029\n",
              "3      6.0  6.165668\n",
              "4      4.0  4.054101\n",
              "5      5.0  5.187267\n",
              "6      6.0  6.280251\n",
              "7      7.0  7.281840\n",
              "8      5.0  5.141706\n",
              "9      6.0  6.276949\n",
              "10     7.0  7.357843\n",
              "11     8.0  8.332492\n",
              "12     6.0  6.168635\n",
              "13     7.0  7.282796\n",
              "14     8.0  8.331820\n",
              "15     9.0  9.265548"
            ],
            "text/html": [
              "\n",
              "  <div id=\"df-e25d0174-f9ee-4620-8258-8bd3501503ed\">\n",
              "    <div class=\"colab-df-container\">\n",
              "      <div>\n",
              "<style scoped>\n",
              "    .dataframe tbody tr th:only-of-type {\n",
              "        vertical-align: middle;\n",
              "    }\n",
              "\n",
              "    .dataframe tbody tr th {\n",
              "        vertical-align: top;\n",
              "    }\n",
              "\n",
              "    .dataframe thead th {\n",
              "        text-align: right;\n",
              "    }\n",
              "</style>\n",
              "<table border=\"1\" class=\"dataframe\">\n",
              "  <thead>\n",
              "    <tr style=\"text-align: right;\">\n",
              "      <th></th>\n",
              "      <th>y_test</th>\n",
              "      <th>y_pred</th>\n",
              "    </tr>\n",
              "  </thead>\n",
              "  <tbody>\n",
              "    <tr>\n",
              "      <th>0</th>\n",
              "      <td>3.0</td>\n",
              "      <td>2.957965</td>\n",
              "    </tr>\n",
              "    <tr>\n",
              "      <th>1</th>\n",
              "      <td>4.0</td>\n",
              "      <td>4.067776</td>\n",
              "    </tr>\n",
              "    <tr>\n",
              "      <th>2</th>\n",
              "      <td>5.0</td>\n",
              "      <td>5.153029</td>\n",
              "    </tr>\n",
              "    <tr>\n",
              "      <th>3</th>\n",
              "      <td>6.0</td>\n",
              "      <td>6.165668</td>\n",
              "    </tr>\n",
              "    <tr>\n",
              "      <th>4</th>\n",
              "      <td>4.0</td>\n",
              "      <td>4.054101</td>\n",
              "    </tr>\n",
              "    <tr>\n",
              "      <th>5</th>\n",
              "      <td>5.0</td>\n",
              "      <td>5.187267</td>\n",
              "    </tr>\n",
              "    <tr>\n",
              "      <th>6</th>\n",
              "      <td>6.0</td>\n",
              "      <td>6.280251</td>\n",
              "    </tr>\n",
              "    <tr>\n",
              "      <th>7</th>\n",
              "      <td>7.0</td>\n",
              "      <td>7.281840</td>\n",
              "    </tr>\n",
              "    <tr>\n",
              "      <th>8</th>\n",
              "      <td>5.0</td>\n",
              "      <td>5.141706</td>\n",
              "    </tr>\n",
              "    <tr>\n",
              "      <th>9</th>\n",
              "      <td>6.0</td>\n",
              "      <td>6.276949</td>\n",
              "    </tr>\n",
              "    <tr>\n",
              "      <th>10</th>\n",
              "      <td>7.0</td>\n",
              "      <td>7.357843</td>\n",
              "    </tr>\n",
              "    <tr>\n",
              "      <th>11</th>\n",
              "      <td>8.0</td>\n",
              "      <td>8.332492</td>\n",
              "    </tr>\n",
              "    <tr>\n",
              "      <th>12</th>\n",
              "      <td>6.0</td>\n",
              "      <td>6.168635</td>\n",
              "    </tr>\n",
              "    <tr>\n",
              "      <th>13</th>\n",
              "      <td>7.0</td>\n",
              "      <td>7.282796</td>\n",
              "    </tr>\n",
              "    <tr>\n",
              "      <th>14</th>\n",
              "      <td>8.0</td>\n",
              "      <td>8.331820</td>\n",
              "    </tr>\n",
              "    <tr>\n",
              "      <th>15</th>\n",
              "      <td>9.0</td>\n",
              "      <td>9.265548</td>\n",
              "    </tr>\n",
              "  </tbody>\n",
              "</table>\n",
              "</div>\n",
              "      <button class=\"colab-df-convert\" onclick=\"convertToInteractive('df-e25d0174-f9ee-4620-8258-8bd3501503ed')\"\n",
              "              title=\"Convert this dataframe to an interactive table.\"\n",
              "              style=\"display:none;\">\n",
              "        \n",
              "  <svg xmlns=\"http://www.w3.org/2000/svg\" height=\"24px\"viewBox=\"0 0 24 24\"\n",
              "       width=\"24px\">\n",
              "    <path d=\"M0 0h24v24H0V0z\" fill=\"none\"/>\n",
              "    <path d=\"M18.56 5.44l.94 2.06.94-2.06 2.06-.94-2.06-.94-.94-2.06-.94 2.06-2.06.94zm-11 1L8.5 8.5l.94-2.06 2.06-.94-2.06-.94L8.5 2.5l-.94 2.06-2.06.94zm10 10l.94 2.06.94-2.06 2.06-.94-2.06-.94-.94-2.06-.94 2.06-2.06.94z\"/><path d=\"M17.41 7.96l-1.37-1.37c-.4-.4-.92-.59-1.43-.59-.52 0-1.04.2-1.43.59L10.3 9.45l-7.72 7.72c-.78.78-.78 2.05 0 2.83L4 21.41c.39.39.9.59 1.41.59.51 0 1.02-.2 1.41-.59l7.78-7.78 2.81-2.81c.8-.78.8-2.07 0-2.86zM5.41 20L4 18.59l7.72-7.72 1.47 1.35L5.41 20z\"/>\n",
              "  </svg>\n",
              "      </button>\n",
              "      \n",
              "  <style>\n",
              "    .colab-df-container {\n",
              "      display:flex;\n",
              "      flex-wrap:wrap;\n",
              "      gap: 12px;\n",
              "    }\n",
              "\n",
              "    .colab-df-convert {\n",
              "      background-color: #E8F0FE;\n",
              "      border: none;\n",
              "      border-radius: 50%;\n",
              "      cursor: pointer;\n",
              "      display: none;\n",
              "      fill: #1967D2;\n",
              "      height: 32px;\n",
              "      padding: 0 0 0 0;\n",
              "      width: 32px;\n",
              "    }\n",
              "\n",
              "    .colab-df-convert:hover {\n",
              "      background-color: #E2EBFA;\n",
              "      box-shadow: 0px 1px 2px rgba(60, 64, 67, 0.3), 0px 1px 3px 1px rgba(60, 64, 67, 0.15);\n",
              "      fill: #174EA6;\n",
              "    }\n",
              "\n",
              "    [theme=dark] .colab-df-convert {\n",
              "      background-color: #3B4455;\n",
              "      fill: #D2E3FC;\n",
              "    }\n",
              "\n",
              "    [theme=dark] .colab-df-convert:hover {\n",
              "      background-color: #434B5C;\n",
              "      box-shadow: 0px 1px 3px 1px rgba(0, 0, 0, 0.15);\n",
              "      filter: drop-shadow(0px 1px 2px rgba(0, 0, 0, 0.3));\n",
              "      fill: #FFFFFF;\n",
              "    }\n",
              "  </style>\n",
              "\n",
              "      <script>\n",
              "        const buttonEl =\n",
              "          document.querySelector('#df-e25d0174-f9ee-4620-8258-8bd3501503ed button.colab-df-convert');\n",
              "        buttonEl.style.display =\n",
              "          google.colab.kernel.accessAllowed ? 'block' : 'none';\n",
              "\n",
              "        async function convertToInteractive(key) {\n",
              "          const element = document.querySelector('#df-e25d0174-f9ee-4620-8258-8bd3501503ed');\n",
              "          const dataTable =\n",
              "            await google.colab.kernel.invokeFunction('convertToInteractive',\n",
              "                                                     [key], {});\n",
              "          if (!dataTable) return;\n",
              "\n",
              "          const docLinkHtml = 'Like what you see? Visit the ' +\n",
              "            '<a target=\"_blank\" href=https://colab.research.google.com/notebooks/data_table.ipynb>data table notebook</a>'\n",
              "            + ' to learn more about interactive tables.';\n",
              "          element.innerHTML = '';\n",
              "          dataTable['output_type'] = 'display_data';\n",
              "          await google.colab.output.renderOutput(dataTable, element);\n",
              "          const docLink = document.createElement('div');\n",
              "          docLink.innerHTML = docLinkHtml;\n",
              "          element.appendChild(docLink);\n",
              "        }\n",
              "      </script>\n",
              "    </div>\n",
              "  </div>\n",
              "  "
            ]
          },
          "metadata": {},
          "execution_count": 77
        }
      ]
    },
    {
      "cell_type": "markdown",
      "metadata": {
        "id": "nslZ72RGnmSB"
      },
      "source": [
        "**Plotando y_pred e y_test**"
      ]
    },
    {
      "cell_type": "code",
      "metadata": {
        "id": "3pIZVgrjfb1I",
        "colab": {
          "base_uri": "https://localhost:8080/",
          "height": 279
        },
        "outputId": "92c7418f-3a07-41d6-c021-9b6dbef73a41"
      },
      "source": [
        "plt.plot(range(16),y_pred, 'o')\n",
        "plt.plot(range(16), y_test, 'o')\n",
        "plt.ylabel('y')\n",
        "plt.xlabel('Padrão')\n",
        "plt.legend(['y_pred', 'y_test'], loc='upper left')\n",
        "plt.show()"
      ],
      "execution_count": 78,
      "outputs": [
        {
          "output_type": "display_data",
          "data": {
            "text/plain": [
              "<Figure size 432x288 with 1 Axes>"
            ],
            "image/png": "[encoded data removed]"
          },
          "metadata": {
            "needs_background": "light"
          }
        }
      ]
    },
    {
      "cell_type": "code",
      "metadata": {
        "id": "0vem40xrjG9k",
        "colab": {
          "base_uri": "https://localhost:8080/",
          "height": 283
        },
        "outputId": "666d551f-c68f-49c5-c1ac-61cd7bac4810"
      },
      "source": [
        "plt.scatter(y_test,y_pred)\n",
        "plt.plot(y_test,y_test,'r')"
      ],
      "execution_count": 79,
      "outputs": [
        {
          "output_type": "execute_result",
          "data": {
            "text/plain": [
              "[<matplotlib.lines.Line2D at 0x7f81b1f15f50>]"
            ]
          },
          "metadata": {},
          "execution_count": 79
        },
        {
          "output_type": "display_data",
          "data": {
            "text/plain": [
              "<Figure size 432x288 with 1 Axes>"
            ],
            "image/png": "[encoded data removed]"
          },
          "metadata": {
            "needs_background": "light"
          }
        }
      ]
    }
  ]
}