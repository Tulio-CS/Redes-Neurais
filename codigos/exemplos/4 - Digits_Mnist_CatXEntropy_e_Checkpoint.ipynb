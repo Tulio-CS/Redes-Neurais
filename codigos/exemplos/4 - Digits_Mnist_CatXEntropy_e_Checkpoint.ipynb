{
  "nbformat": 4,
  "nbformat_minor": 0,
  "metadata": {
    "colab": {
      "provenance": []
    },
    "kernelspec": {
      "name": "python3",
      "display_name": "Python 3"
    },
    "language_info": {
      "name": "python"
    }
  },
  "cells": [
    {
      "cell_type": "markdown",
      "metadata": {
        "id": "DKV5llR0gQGR"
      },
      "source": [
        "# **Classificação de dígitos: MNIST dataset**"
      ]
    },
    {
      "cell_type": "markdown",
      "source": [
        "Objetivos:\n",
        "\n",
        "- Mostrar utilização da função de erro sparse_categorical_cross_entropy e ativação softmax na camada de saída.\n",
        "\n",
        "- Mostrar como utilizar checkpoint para salvar o melhor modelo."
      ],
      "metadata": {
        "id": "fVKJW2AUUlgf"
      }
    },
    {
      "cell_type": "markdown",
      "metadata": {
        "id": "yr3_O4pZgYfx"
      },
      "source": [
        "### Bibliotecas"
      ]
    },
    {
      "cell_type": "code",
      "metadata": {
        "id": "tC3010vibIm1"
      },
      "source": [
        "import tensorflow as tf\n",
        "from tensorflow import keras, random\n",
        "import matplotlib.pyplot as plt\n",
        "import numpy as np\n",
        "\n",
        "#from keras import Sequential, layers, datasets"
      ],
      "execution_count": 2,
      "outputs": []
    },
    {
      "cell_type": "markdown",
      "metadata": {
        "id": "fBEKI0PQgbrH"
      },
      "source": [
        "### Importando os dados de MNIST"
      ]
    },
    {
      "cell_type": "code",
      "metadata": {
        "colab": {
          "base_uri": "https://localhost:8080/"
        },
        "id": "g9bja9wrbfQx",
        "outputId": "450346f0-2a3c-4a44-f276-eb40a66eee76"
      },
      "source": [
        "(x_train, y_train), (x_test, y_test) = keras.datasets.mnist.load_data()\n",
        "\n",
        "print('Conjunto de treinamento: ', len(x_train))\n",
        "print('Conjunto de teste: ', len(x_test))\n",
        "print('Shape de um padrão: ', x_train[0].shape)"
      ],
      "execution_count": 3,
      "outputs": [
        {
          "output_type": "stream",
          "name": "stdout",
          "text": [
            "Downloading data from https://storage.googleapis.com/tensorflow/tf-keras-datasets/mnist.npz\n",
            "11490434/11490434 [==============================] - 0s 0us/step\n",
            "Conjunto de treinamento:  60000\n",
            "Conjunto de teste:  10000\n",
            "Shape de um padrão:  (28, 28)\n"
          ]
        }
      ]
    },
    {
      "cell_type": "markdown",
      "metadata": {
        "id": "kwXceeQcgjM-"
      },
      "source": [
        "### Entendendo os dados de treinamento"
      ]
    },
    {
      "cell_type": "code",
      "metadata": {
        "id": "xxlqV4GvfIao",
        "colab": {
          "base_uri": "https://localhost:8080/"
        },
        "outputId": "b0a08b02-eeb8-4ac2-cf38-4dadb5cf1248"
      },
      "source": [
        "x_train[0]"
      ],
      "execution_count": 7,
      "outputs": [
        {
          "output_type": "execute_result",
          "data": {
            "text/plain": [
              "array([[  0,   0,   0,   0,   0,   0,   0,   0,   0,   0,   0,   0,   0,\n",
              "          0,   0,   0,   0,   0,   0,   0,   0,   0,   0,   0,   0,   0,\n",
              "          0,   0],\n",
              "       [  0,   0,   0,   0,   0,   0,   0,   0,   0,   0,   0,   0,   0,\n",
              "          0,   0,   0,   0,   0,   0,   0,   0,   0,   0,   0,   0,   0,\n",
              "          0,   0],\n",
              "       [  0,   0,   0,   0,   0,   0,   0,   0,   0,   0,   0,   0,   0,\n",
              "          0,   0,   0,   0,   0,   0,   0,   0,   0,   0,   0,   0,   0,\n",
              "          0,   0],\n",
              "       [  0,   0,   0,   0,   0,   0,   0,   0,   0,   0,   0,   0,   0,\n",
              "          0,   0,   0,   0,   0,   0,   0,   0,   0,   0,   0,   0,   0,\n",
              "          0,   0],\n",
              "       [  0,   0,   0,   0,   0,   0,   0,   0,   0,   0,   0,   0,   0,\n",
              "          0,   0,   0,   0,   0,   0,   0,   0,   0,   0,   0,   0,   0,\n",
              "          0,   0],\n",
              "       [  0,   0,   0,   0,   0,   0,   0,   0,   0,   0,   0,   0,   3,\n",
              "         18,  18,  18, 126, 136, 175,  26, 166, 255, 247, 127,   0,   0,\n",
              "          0,   0],\n",
              "       [  0,   0,   0,   0,   0,   0,   0,   0,  30,  36,  94, 154, 170,\n",
              "        253, 253, 253, 253, 253, 225, 172, 253, 242, 195,  64,   0,   0,\n",
              "          0,   0],\n",
              "       [  0,   0,   0,   0,   0,   0,   0,  49, 238, 253, 253, 253, 253,\n",
              "        253, 253, 253, 253, 251,  93,  82,  82,  56,  39,   0,   0,   0,\n",
              "          0,   0],\n",
              "       [  0,   0,   0,   0,   0,   0,   0,  18, 219, 253, 253, 253, 253,\n",
              "        253, 198, 182, 247, 241,   0,   0,   0,   0,   0,   0,   0,   0,\n",
              "          0,   0],\n",
              "       [  0,   0,   0,   0,   0,   0,   0,   0,  80, 156, 107, 253, 253,\n",
              "        205,  11,   0,  43, 154,   0,   0,   0,   0,   0,   0,   0,   0,\n",
              "          0,   0],\n",
              "       [  0,   0,   0,   0,   0,   0,   0,   0,   0,  14,   1, 154, 253,\n",
              "         90,   0,   0,   0,   0,   0,   0,   0,   0,   0,   0,   0,   0,\n",
              "          0,   0],\n",
              "       [  0,   0,   0,   0,   0,   0,   0,   0,   0,   0,   0, 139, 253,\n",
              "        190,   2,   0,   0,   0,   0,   0,   0,   0,   0,   0,   0,   0,\n",
              "          0,   0],\n",
              "       [  0,   0,   0,   0,   0,   0,   0,   0,   0,   0,   0,  11, 190,\n",
              "        253,  70,   0,   0,   0,   0,   0,   0,   0,   0,   0,   0,   0,\n",
              "          0,   0],\n",
              "       [  0,   0,   0,   0,   0,   0,   0,   0,   0,   0,   0,   0,  35,\n",
              "        241, 225, 160, 108,   1,   0,   0,   0,   0,   0,   0,   0,   0,\n",
              "          0,   0],\n",
              "       [  0,   0,   0,   0,   0,   0,   0,   0,   0,   0,   0,   0,   0,\n",
              "         81, 240, 253, 253, 119,  25,   0,   0,   0,   0,   0,   0,   0,\n",
              "          0,   0],\n",
              "       [  0,   0,   0,   0,   0,   0,   0,   0,   0,   0,   0,   0,   0,\n",
              "          0,  45, 186, 253, 253, 150,  27,   0,   0,   0,   0,   0,   0,\n",
              "          0,   0],\n",
              "       [  0,   0,   0,   0,   0,   0,   0,   0,   0,   0,   0,   0,   0,\n",
              "          0,   0,  16,  93, 252, 253, 187,   0,   0,   0,   0,   0,   0,\n",
              "          0,   0],\n",
              "       [  0,   0,   0,   0,   0,   0,   0,   0,   0,   0,   0,   0,   0,\n",
              "          0,   0,   0,   0, 249, 253, 249,  64,   0,   0,   0,   0,   0,\n",
              "          0,   0],\n",
              "       [  0,   0,   0,   0,   0,   0,   0,   0,   0,   0,   0,   0,   0,\n",
              "          0,  46, 130, 183, 253, 253, 207,   2,   0,   0,   0,   0,   0,\n",
              "          0,   0],\n",
              "       [  0,   0,   0,   0,   0,   0,   0,   0,   0,   0,   0,   0,  39,\n",
              "        148, 229, 253, 253, 253, 250, 182,   0,   0,   0,   0,   0,   0,\n",
              "          0,   0],\n",
              "       [  0,   0,   0,   0,   0,   0,   0,   0,   0,   0,  24, 114, 221,\n",
              "        253, 253, 253, 253, 201,  78,   0,   0,   0,   0,   0,   0,   0,\n",
              "          0,   0],\n",
              "       [  0,   0,   0,   0,   0,   0,   0,   0,  23,  66, 213, 253, 253,\n",
              "        253, 253, 198,  81,   2,   0,   0,   0,   0,   0,   0,   0,   0,\n",
              "          0,   0],\n",
              "       [  0,   0,   0,   0,   0,   0,  18, 171, 219, 253, 253, 253, 253,\n",
              "        195,  80,   9,   0,   0,   0,   0,   0,   0,   0,   0,   0,   0,\n",
              "          0,   0],\n",
              "       [  0,   0,   0,   0,  55, 172, 226, 253, 253, 253, 253, 244, 133,\n",
              "         11,   0,   0,   0,   0,   0,   0,   0,   0,   0,   0,   0,   0,\n",
              "          0,   0],\n",
              "       [  0,   0,   0,   0, 136, 253, 253, 253, 212, 135, 132,  16,   0,\n",
              "          0,   0,   0,   0,   0,   0,   0,   0,   0,   0,   0,   0,   0,\n",
              "          0,   0],\n",
              "       [  0,   0,   0,   0,   0,   0,   0,   0,   0,   0,   0,   0,   0,\n",
              "          0,   0,   0,   0,   0,   0,   0,   0,   0,   0,   0,   0,   0,\n",
              "          0,   0],\n",
              "       [  0,   0,   0,   0,   0,   0,   0,   0,   0,   0,   0,   0,   0,\n",
              "          0,   0,   0,   0,   0,   0,   0,   0,   0,   0,   0,   0,   0,\n",
              "          0,   0],\n",
              "       [  0,   0,   0,   0,   0,   0,   0,   0,   0,   0,   0,   0,   0,\n",
              "          0,   0,   0,   0,   0,   0,   0,   0,   0,   0,   0,   0,   0,\n",
              "          0,   0]], dtype=uint8)"
            ]
          },
          "metadata": {},
          "execution_count": 7
        }
      ]
    },
    {
      "cell_type": "code",
      "source": [
        "x_train.max()"
      ],
      "metadata": {
        "colab": {
          "base_uri": "https://localhost:8080/"
        },
        "id": "JAxC4hJLpe7L",
        "outputId": "4157db3e-e809-46cd-97cd-d4deb39d7c26"
      },
      "execution_count": 5,
      "outputs": [
        {
          "output_type": "execute_result",
          "data": {
            "text/plain": [
              "255"
            ]
          },
          "metadata": {},
          "execution_count": 5
        }
      ]
    },
    {
      "cell_type": "code",
      "source": [
        "print(y_train[0])"
      ],
      "metadata": {
        "colab": {
          "base_uri": "https://localhost:8080/"
        },
        "id": "RcZQaTHaLAb_",
        "outputId": "55ab5f80-46fb-459c-fa28-24a5581d77f7"
      },
      "execution_count": 12,
      "outputs": [
        {
          "output_type": "stream",
          "name": "stdout",
          "text": [
            "3\n"
          ]
        }
      ]
    },
    {
      "cell_type": "code",
      "metadata": {
        "colab": {
          "base_uri": "https://localhost:8080/",
          "height": 447
        },
        "id": "W4wXUjHufic3",
        "outputId": "a5d08128-0cc6-457e-e660-85a606a20aea"
      },
      "source": [
        "#plt.matshow(x_train[0], cmap=plt.cm.binary)\n",
        "plt.imshow(x_train[0], cmap=plt.cm.binary)\n",
        "#plt.imshow(x_train[0], cmap=plt.cm.Blues)\n"
      ],
      "execution_count": 13,
      "outputs": [
        {
          "output_type": "execute_result",
          "data": {
            "text/plain": [
              "<matplotlib.image.AxesImage at 0x7fafb98c8e20>"
            ]
          },
          "metadata": {},
          "execution_count": 13
        },
        {
          "output_type": "display_data",
          "data": {
            "text/plain": [
              "<Figure size 640x480 with 1 Axes>"
            ],
            "image/png": "[encoded data removed]"
          },
          "metadata": {}
        }
      ]
    },
    {
      "cell_type": "code",
      "metadata": {
        "colab": {
          "base_uri": "https://localhost:8080/"
        },
        "id": "xkKHC15XwTCE",
        "outputId": "10f02811-4800-4a3c-df47-41084878bab5"
      },
      "source": [
        "y_train\n"
      ],
      "execution_count": null,
      "outputs": [
        {
          "output_type": "execute_result",
          "data": {
            "text/plain": [
              "array([5, 0, 4, ..., 5, 6, 8], dtype=uint8)"
            ]
          },
          "metadata": {},
          "execution_count": 59
        }
      ]
    },
    {
      "cell_type": "markdown",
      "source": [
        "### Parênteses: Um pouco de Numpy"
      ],
      "metadata": {
        "id": "hhFegkZplvrH"
      }
    },
    {
      "cell_type": "markdown",
      "source": [
        "Listas e matrizes sem NumPy"
      ],
      "metadata": {
        "id": "yO1hiEjEl270"
      }
    },
    {
      "cell_type": "code",
      "source": [
        "w = [1.5, 3.6, 4.8, 45.1]\n",
        "w2 = [2.4, 3.5, 6.8, 10.1]"
      ],
      "metadata": {
        "id": "nJRM5xzulGw_"
      },
      "execution_count": null,
      "outputs": []
    },
    {
      "cell_type": "code",
      "source": [
        "w + w2"
      ],
      "metadata": {
        "colab": {
          "base_uri": "https://localhost:8080/"
        },
        "id": "b8nR2s6elOHY",
        "outputId": "f1b8a3ff-b3fe-4bf0-9bbc-9751b561fff2"
      },
      "execution_count": null,
      "outputs": [
        {
          "output_type": "execute_result",
          "data": {
            "text/plain": [
              "[1.5, 3.6, 4.8, 45.1, 2.4, 3.5, 6.8, 10.1]"
            ]
          },
          "metadata": {},
          "execution_count": 71
        }
      ]
    },
    {
      "cell_type": "code",
      "source": [
        "A = [\n",
        "    [2.0, 3.0], \n",
        "    [4.0, 1.0]]\n",
        "    \n",
        "B = [\n",
        "    [1.0, 2.0], \n",
        "    [1.0, 1.0]]"
      ],
      "metadata": {
        "id": "r9lNkokmmWvZ"
      },
      "execution_count": null,
      "outputs": []
    },
    {
      "cell_type": "code",
      "source": [
        "A + B"
      ],
      "metadata": {
        "colab": {
          "base_uri": "https://localhost:8080/"
        },
        "id": "9ESpk85Xm6uU",
        "outputId": "62c119a3-4bb4-4e79-bf4a-5b78eb152344"
      },
      "execution_count": null,
      "outputs": [
        {
          "output_type": "execute_result",
          "data": {
            "text/plain": [
              "[[2.0, 3.0], [4.0, 1.0], [1.0, 2.0], [1.0, 1.0]]"
            ]
          },
          "metadata": {},
          "execution_count": 74
        }
      ]
    },
    {
      "cell_type": "code",
      "source": [
        "A"
      ],
      "metadata": {
        "colab": {
          "base_uri": "https://localhost:8080/"
        },
        "id": "v-4HRJmhnXO1",
        "outputId": "9e476475-158a-45cf-b8b5-1e2981081bcd"
      },
      "execution_count": null,
      "outputs": [
        {
          "output_type": "execute_result",
          "data": {
            "text/plain": [
              "[[2.0, 3.0], [4.0, 1.0]]"
            ]
          },
          "metadata": {},
          "execution_count": 79
        }
      ]
    },
    {
      "cell_type": "markdown",
      "source": [
        "Listas e matrizes com NumPy"
      ],
      "metadata": {
        "id": "o_EcFP_kl8cG"
      }
    },
    {
      "cell_type": "code",
      "source": [
        "w = np.array([1.5, 3.6, 4.8, 45.1])\n",
        "w2 = np.array([2.4, 3.5, 6.8, 10.1])"
      ],
      "metadata": {
        "id": "zZootZ9aluGu"
      },
      "execution_count": null,
      "outputs": []
    },
    {
      "cell_type": "code",
      "source": [
        "w + w2"
      ],
      "metadata": {
        "colab": {
          "base_uri": "https://localhost:8080/"
        },
        "id": "6Y1M-gaEmKFA",
        "outputId": "4e55cff5-379f-4581-f540-1085a317ad34"
      },
      "execution_count": null,
      "outputs": [
        {
          "output_type": "execute_result",
          "data": {
            "text/plain": [
              "array([ 3.9,  7.1, 11.6, 55.2])"
            ]
          },
          "metadata": {},
          "execution_count": 68
        }
      ]
    },
    {
      "cell_type": "code",
      "source": [
        "A = np.array(A)\n",
        "B = np.array(B)"
      ],
      "metadata": {
        "id": "gAMlvm1JnKUc"
      },
      "execution_count": null,
      "outputs": []
    },
    {
      "cell_type": "code",
      "source": [
        "A"
      ],
      "metadata": {
        "colab": {
          "base_uri": "https://localhost:8080/"
        },
        "id": "EOFoL30AnSqZ",
        "outputId": "b7b4f5e9-cd92-48a9-fd7d-76a60037fe95"
      },
      "execution_count": null,
      "outputs": [
        {
          "output_type": "execute_result",
          "data": {
            "text/plain": [
              "array([[2., 3.],\n",
              "       [4., 1.]])"
            ]
          },
          "metadata": {},
          "execution_count": 77
        }
      ]
    },
    {
      "cell_type": "code",
      "source": [
        "B"
      ],
      "metadata": {
        "colab": {
          "base_uri": "https://localhost:8080/"
        },
        "id": "1pdY3Oy3nkJq",
        "outputId": "36fd7551-3b59-4912-9376-4dd6bc833cd1"
      },
      "execution_count": null,
      "outputs": [
        {
          "output_type": "execute_result",
          "data": {
            "text/plain": [
              "array([[1., 2.],\n",
              "       [1., 1.]])"
            ]
          },
          "metadata": {},
          "execution_count": 83
        }
      ]
    },
    {
      "cell_type": "code",
      "source": [
        "A + B"
      ],
      "metadata": {
        "colab": {
          "base_uri": "https://localhost:8080/"
        },
        "id": "hK0eCyQlnbjq",
        "outputId": "dcaf15b6-08e9-4083-d323-0ce540ffc5c2"
      },
      "execution_count": null,
      "outputs": [
        {
          "output_type": "execute_result",
          "data": {
            "text/plain": [
              "array([[3., 5.],\n",
              "       [5., 2.]])"
            ]
          },
          "metadata": {},
          "execution_count": 82
        }
      ]
    },
    {
      "cell_type": "code",
      "source": [
        "A @ B"
      ],
      "metadata": {
        "colab": {
          "base_uri": "https://localhost:8080/"
        },
        "id": "oaW-gCv7nmBy",
        "outputId": "35346ac9-a32f-4154-eaec-b36222ce5e95"
      },
      "execution_count": null,
      "outputs": [
        {
          "output_type": "execute_result",
          "data": {
            "text/plain": [
              "array([[5., 7.],\n",
              "       [5., 9.]])"
            ]
          },
          "metadata": {},
          "execution_count": 85
        }
      ]
    },
    {
      "cell_type": "markdown",
      "metadata": {
        "id": "BZgqd6pHhGdg"
      },
      "source": [
        "### Exibindo algumas imagens"
      ]
    },
    {
      "cell_type": "code",
      "metadata": {
        "colab": {
          "base_uri": "https://localhost:8080/",
          "height": 407
        },
        "id": "y2y4VtXgclUR",
        "outputId": "487029ba-64fd-4e1a-b95c-8f6d472a1f9d"
      },
      "source": [
        "plt.figure(figsize=(10,5))\n",
        "for i in range(10):\n",
        "    plt.subplot(2,5,i+1)\n",
        "    plt.imshow(x_train[i], cmap=plt.cm.binary)\n",
        "plt.show()"
      ],
      "execution_count": 14,
      "outputs": [
        {
          "output_type": "display_data",
          "data": {
            "text/plain": [
              "<Figure size 1000x500 with 10 Axes>"
            ],
            "image/png": "[encoded data removed]"
          },
          "metadata": {}
        }
      ]
    },
    {
      "cell_type": "markdown",
      "metadata": {
        "id": "jSnXNl9I0HL_"
      },
      "source": [
        "### Normalizando as entradas"
      ]
    },
    {
      "cell_type": "code",
      "metadata": {
        "id": "IrXT_ayh0FsP"
      },
      "source": [
        "x_train = x_train / 255\n",
        "x_test = x_test / 255"
      ],
      "execution_count": 15,
      "outputs": []
    },
    {
      "cell_type": "markdown",
      "source": [
        "### Separando conjuntos de validação e teste"
      ],
      "metadata": {
        "id": "sIm0aiVKDWnf"
      }
    },
    {
      "cell_type": "code",
      "source": [
        "x_valid = x_test[0:8000]\n",
        "x_test = x_test[8000:]\n",
        "y_valid = y_test[0:8000]\n",
        "y_test = y_test[8000:]"
      ],
      "metadata": {
        "id": "Ia4H3RapB0Rt"
      },
      "execution_count": 16,
      "outputs": []
    },
    {
      "cell_type": "code",
      "source": [
        "print(\"Treinamento: \", len(x_train))\n",
        "print(\"Validação: \", len(x_valid))\n",
        "print(\"Test: \", len(x_test))"
      ],
      "metadata": {
        "colab": {
          "base_uri": "https://localhost:8080/"
        },
        "id": "IMzWt6C3qRut",
        "outputId": "06d99644-e21c-4d47-e5c3-e1783c1a1ff6"
      },
      "execution_count": 17,
      "outputs": [
        {
          "output_type": "stream",
          "name": "stdout",
          "text": [
            "Treinamento:  60000\n",
            "Validação:  8000\n",
            "Test:  2000\n"
          ]
        }
      ]
    },
    {
      "cell_type": "code",
      "source": [
        "y_valid.shape"
      ],
      "metadata": {
        "colab": {
          "base_uri": "https://localhost:8080/"
        },
        "id": "KXcSqkSsCLYK",
        "outputId": "c5d1983a-dc52-4da3-9321-455fcd2350a0"
      },
      "execution_count": 18,
      "outputs": [
        {
          "output_type": "execute_result",
          "data": {
            "text/plain": [
              "(8000,)"
            ]
          },
          "metadata": {},
          "execution_count": 18
        }
      ]
    },
    {
      "cell_type": "markdown",
      "metadata": {
        "id": "L7uHxxwugr5u"
      },
      "source": [
        "### Modelando a rede neural"
      ]
    },
    {
      "cell_type": "code",
      "source": [
        "seed = 123\n",
        "random.set_seed(seed)"
      ],
      "metadata": {
        "id": "BdVlCt31AbEk"
      },
      "execution_count": 19,
      "outputs": []
    },
    {
      "cell_type": "markdown",
      "source": [
        "As duas formas abaixo para descrição da arquitetura da rede são equivalentes."
      ],
      "metadata": {
        "id": "EMZ0dOPOP078"
      }
    },
    {
      "cell_type": "code",
      "source": [
        "model = keras.Sequential()\n",
        "\n",
        "model.add(keras.layers.Flatten(input_shape=(28,28)))\n",
        "model.add(keras.layers.Dense(20, activation='relu'))\n",
        "model.add(keras.layers.Dense(10, activation='softmax'))"
      ],
      "metadata": {
        "id": "WN_2rVljNWxx"
      },
      "execution_count": 20,
      "outputs": []
    },
    {
      "cell_type": "code",
      "metadata": {
        "id": "nJw85Ls1eLJ4"
      },
      "source": [
        "model = keras.Sequential([\n",
        "                          \n",
        "    keras.layers.Flatten(input_shape=(28,28)), # converte matriz em um vetor\n",
        "    keras.layers.Dense(20, activation='relu'),\n",
        "    keras.layers.Dense(10, activation='softmax')\n",
        "])"
      ],
      "execution_count": 21,
      "outputs": []
    },
    {
      "cell_type": "markdown",
      "source": [
        "Compilando o modelo com o Otimizador."
      ],
      "metadata": {
        "id": "kjknSeTlQBrl"
      }
    },
    {
      "cell_type": "code",
      "source": [
        "model.compile(optimizer='adam',  loss='sparse_categorical_crossentropy', metrics=['accuracy'])"
      ],
      "metadata": {
        "id": "NOj5u7UsN0NO"
      },
      "execution_count": 22,
      "outputs": []
    },
    {
      "cell_type": "markdown",
      "metadata": {
        "id": "QMAjaC95h5R_"
      },
      "source": [
        "### Treinando a rede neural"
      ]
    },
    {
      "cell_type": "markdown",
      "source": [
        "Checkpoint callback para salvar melhor rede na validação"
      ],
      "metadata": {
        "id": "-vIFH6aOHS6n"
      }
    },
    {
      "cell_type": "code",
      "source": [
        "from keras.callbacks import ModelCheckpoint\n",
        "\n",
        "checkpoint_filepath = '/content/sample_data/best_valid.h5'\n",
        "\n",
        "model_checkpoint_callback = ModelCheckpoint(\n",
        "    filepath=checkpoint_filepath,\n",
        "    save_weights_only=True,\n",
        "    monitor='val_accuracy',\n",
        "    mode='max',\n",
        "    save_best_only=True)"
      ],
      "metadata": {
        "id": "YZUcHNVnHPfm"
      },
      "execution_count": 23,
      "outputs": []
    },
    {
      "cell_type": "markdown",
      "source": [
        "Treinamento"
      ],
      "metadata": {
        "id": "42Sei9xyHc9c"
      }
    },
    {
      "cell_type": "code",
      "metadata": {
        "id": "566Ml35RhTQu",
        "colab": {
          "base_uri": "https://localhost:8080/"
        },
        "outputId": "3ebd356d-b717-4db2-a9a0-55ff6fee19e1"
      },
      "source": [
        "seed = 123\n",
        "random.set_seed(seed)\n",
        "\n",
        "history = model.fit(x_train, y_train, validation_data=(x_valid, y_valid), epochs=20, shuffle=True, callbacks=[model_checkpoint_callback], verbose = 1)"
      ],
      "execution_count": 24,
      "outputs": [
        {
          "output_type": "stream",
          "name": "stdout",
          "text": [
            "Epoch 1/20\n",
            "1875/1875 [==============================] - 5s 2ms/step - loss: 0.3927 - accuracy: 0.8932 - val_loss: 0.2558 - val_accuracy: 0.9245\n",
            "Epoch 2/20\n",
            "1875/1875 [==============================] - 5s 2ms/step - loss: 0.2250 - accuracy: 0.9352 - val_loss: 0.2200 - val_accuracy: 0.9366\n",
            "Epoch 3/20\n",
            "1875/1875 [==============================] - 4s 2ms/step - loss: 0.1911 - accuracy: 0.9442 - val_loss: 0.1934 - val_accuracy: 0.9419\n",
            "Epoch 4/20\n",
            "1875/1875 [==============================] - 4s 2ms/step - loss: 0.1688 - accuracy: 0.9508 - val_loss: 0.1814 - val_accuracy: 0.9459\n",
            "Epoch 5/20\n",
            "1875/1875 [==============================] - 5s 3ms/step - loss: 0.1535 - accuracy: 0.9550 - val_loss: 0.1728 - val_accuracy: 0.9479\n",
            "Epoch 6/20\n",
            "1875/1875 [==============================] - 4s 2ms/step - loss: 0.1416 - accuracy: 0.9584 - val_loss: 0.1643 - val_accuracy: 0.9511\n",
            "Epoch 7/20\n",
            "1875/1875 [==============================] - 4s 2ms/step - loss: 0.1332 - accuracy: 0.9603 - val_loss: 0.1604 - val_accuracy: 0.9524\n",
            "Epoch 8/20\n",
            "1875/1875 [==============================] - 5s 2ms/step - loss: 0.1256 - accuracy: 0.9631 - val_loss: 0.1572 - val_accuracy: 0.9515\n",
            "Epoch 9/20\n",
            "1875/1875 [==============================] - 4s 2ms/step - loss: 0.1193 - accuracy: 0.9645 - val_loss: 0.1524 - val_accuracy: 0.9548\n",
            "Epoch 10/20\n",
            "1875/1875 [==============================] - 4s 2ms/step - loss: 0.1140 - accuracy: 0.9666 - val_loss: 0.1578 - val_accuracy: 0.9520\n",
            "Epoch 11/20\n",
            "1875/1875 [==============================] - 5s 2ms/step - loss: 0.1096 - accuracy: 0.9678 - val_loss: 0.1531 - val_accuracy: 0.9553\n",
            "Epoch 12/20\n",
            "1875/1875 [==============================] - 4s 2ms/step - loss: 0.1054 - accuracy: 0.9683 - val_loss: 0.1492 - val_accuracy: 0.9566\n",
            "Epoch 13/20\n",
            "1875/1875 [==============================] - 4s 2ms/step - loss: 0.1010 - accuracy: 0.9695 - val_loss: 0.1538 - val_accuracy: 0.9555\n",
            "Epoch 14/20\n",
            "1875/1875 [==============================] - 5s 3ms/step - loss: 0.0972 - accuracy: 0.9708 - val_loss: 0.1571 - val_accuracy: 0.9557\n",
            "Epoch 15/20\n",
            "1875/1875 [==============================] - 4s 2ms/step - loss: 0.0939 - accuracy: 0.9717 - val_loss: 0.1632 - val_accuracy: 0.9535\n",
            "Epoch 16/20\n",
            "1875/1875 [==============================] - 4s 2ms/step - loss: 0.0909 - accuracy: 0.9730 - val_loss: 0.1610 - val_accuracy: 0.9560\n",
            "Epoch 17/20\n",
            "1875/1875 [==============================] - 4s 2ms/step - loss: 0.0885 - accuracy: 0.9733 - val_loss: 0.1504 - val_accuracy: 0.9570\n",
            "Epoch 18/20\n",
            "1875/1875 [==============================] - 5s 3ms/step - loss: 0.0851 - accuracy: 0.9746 - val_loss: 0.1575 - val_accuracy: 0.9544\n",
            "Epoch 19/20\n",
            "1875/1875 [==============================] - 4s 2ms/step - loss: 0.0837 - accuracy: 0.9742 - val_loss: 0.1582 - val_accuracy: 0.9563\n",
            "Epoch 20/20\n",
            "1875/1875 [==============================] - 4s 2ms/step - loss: 0.0810 - accuracy: 0.9754 - val_loss: 0.1675 - val_accuracy: 0.9535\n"
          ]
        }
      ]
    },
    {
      "cell_type": "markdown",
      "source": [
        "### Histórico do Treinamento"
      ],
      "metadata": {
        "id": "rVHtwLUoJ9xK"
      }
    },
    {
      "cell_type": "code",
      "source": [
        "import matplotlib.pyplot as plt #Para Gerar Plots\n",
        "\n",
        "plt.plot(history.history['accuracy'])\n",
        "plt.plot(history.history['val_accuracy'])\n",
        "plt.title('Model Accuraccy')\n",
        "plt.ylabel('Accuracy')\n",
        "plt.xlabel('Epoch')\n",
        "plt.legend(['train', 'valid'], loc='upper left')\n",
        "plt.show()"
      ],
      "metadata": {
        "colab": {
          "base_uri": "https://localhost:8080/",
          "height": 472
        },
        "id": "lzDRVtuDKBbR",
        "outputId": "5fed4b7c-24f7-4f4f-c2a6-1d5e0f4cbb85"
      },
      "execution_count": 25,
      "outputs": [
        {
          "output_type": "display_data",
          "data": {
            "text/plain": [
              "<Figure size 640x480 with 1 Axes>"
            ],
            "image/png": "[encoded data removed]"
          },
          "metadata": {}
        }
      ]
    },
    {
      "cell_type": "markdown",
      "metadata": {
        "id": "1oMEEE5MhqYW"
      },
      "source": [
        "### Avaliando a rede neural"
      ]
    },
    {
      "cell_type": "markdown",
      "source": [
        "Rede no final do treinamento"
      ],
      "metadata": {
        "id": "Z6PBcXgVGhX9"
      }
    },
    {
      "cell_type": "code",
      "metadata": {
        "colab": {
          "base_uri": "https://localhost:8080/"
        },
        "id": "h5NpwcRagIGB",
        "outputId": "e3ae1b2e-906d-4329-de9d-1cb130bd2fc2"
      },
      "source": [
        "model.evaluate(x_train, y_train)\n",
        "model.evaluate(x_valid, y_valid)\n",
        "model.evaluate(x_test, y_test)"
      ],
      "execution_count": 26,
      "outputs": [
        {
          "output_type": "stream",
          "name": "stdout",
          "text": [
            "1875/1875 [==============================] - 4s 2ms/step - loss: 0.0781 - accuracy: 0.9759\n",
            "250/250 [==============================] - 0s 2ms/step - loss: 0.1675 - accuracy: 0.9535\n",
            "63/63 [==============================] - 0s 2ms/step - loss: 0.1141 - accuracy: 0.9680\n"
          ]
        },
        {
          "output_type": "execute_result",
          "data": {
            "text/plain": [
              "[0.11410464346408844, 0.9679999947547913]"
            ]
          },
          "metadata": {},
          "execution_count": 26
        }
      ]
    },
    {
      "cell_type": "markdown",
      "source": [
        "Rede salva com a melhor acurácia"
      ],
      "metadata": {
        "id": "B0dR_0SlGlvW"
      }
    },
    {
      "cell_type": "code",
      "source": [
        "model.load_weights(checkpoint_filepath)\n",
        "\n",
        "model.evaluate(x_train, y_train)\n",
        "model.evaluate(x_valid, y_valid)\n",
        "model.evaluate(x_test, y_test)"
      ],
      "metadata": {
        "colab": {
          "base_uri": "https://localhost:8080/"
        },
        "id": "2g4V-589IxKC",
        "outputId": "d10ceed5-0211-4f60-95e6-e9a979082fbe"
      },
      "execution_count": 27,
      "outputs": [
        {
          "output_type": "stream",
          "name": "stdout",
          "text": [
            "1875/1875 [==============================] - 3s 2ms/step - loss: 0.0760 - accuracy: 0.9771\n",
            "250/250 [==============================] - 0s 2ms/step - loss: 0.1504 - accuracy: 0.9570\n",
            "63/63 [==============================] - 0s 2ms/step - loss: 0.1102 - accuracy: 0.9695\n"
          ]
        },
        {
          "output_type": "execute_result",
          "data": {
            "text/plain": [
              "[0.11016279458999634, 0.9695000052452087]"
            ]
          },
          "metadata": {},
          "execution_count": 27
        }
      ]
    },
    {
      "cell_type": "markdown",
      "metadata": {
        "id": "BwneE6-riMem"
      },
      "source": [
        "### Aplicando a rede neural"
      ]
    },
    {
      "cell_type": "code",
      "metadata": {
        "id": "zNbX7C3GiBww",
        "colab": {
          "base_uri": "https://localhost:8080/"
        },
        "outputId": "058c155f-7d6c-442e-8c5e-99fe7d4558f2"
      },
      "source": [
        "y_pred = model.predict(x_test)"
      ],
      "execution_count": 28,
      "outputs": [
        {
          "output_type": "stream",
          "name": "stdout",
          "text": [
            "63/63 [==============================] - 0s 2ms/step\n"
          ]
        }
      ]
    },
    {
      "cell_type": "markdown",
      "metadata": {
        "id": "R1xuquPwjLX8"
      },
      "source": [
        "### Entendendo a predição"
      ]
    },
    {
      "cell_type": "markdown",
      "metadata": {
        "id": "8FmKfHKZlFIl"
      },
      "source": [
        "Vizualizando algumas imagens do conjunto de teste"
      ]
    },
    {
      "cell_type": "code",
      "metadata": {
        "colab": {
          "base_uri": "https://localhost:8080/",
          "height": 391
        },
        "id": "Ln1E9ZEqlDms",
        "outputId": "c2ff2873-1d19-4c8b-ef3f-d05e11ad9e38"
      },
      "source": [
        "plt.figure(figsize=(15,5))\n",
        "for i in range(20):\n",
        "    plt.subplot(2,10,i+1)\n",
        "    plt.title(i)\n",
        "    plt.imshow(x_test[i], cmap=plt.cm.binary)\n",
        "plt.show()"
      ],
      "execution_count": 29,
      "outputs": [
        {
          "output_type": "display_data",
          "data": {
            "text/plain": [
              "<Figure size 1500x500 with 20 Axes>"
            ],
            "image/png": "[encoded data removed]"
          },
          "metadata": {}
        }
      ]
    },
    {
      "cell_type": "code",
      "metadata": {
        "colab": {
          "base_uri": "https://localhost:8080/"
        },
        "id": "ePEb3_2ixbg3",
        "outputId": "0adb2ee5-3ac8-4318-cfef-92c7e01d3f5e"
      },
      "source": [
        "print('Saída da RN: ', y_pred[3])"
      ],
      "execution_count": 30,
      "outputs": [
        {
          "output_type": "stream",
          "name": "stdout",
          "text": [
            "Saída da RN:  [3.2336176e-09 3.2101558e-05 6.0132734e-04 3.6627881e-02 4.2318176e-12\n",
            " 3.3505628e-08 9.4783597e-15 9.5939612e-01 1.9837730e-03 1.3586584e-03]\n"
          ]
        }
      ]
    },
    {
      "cell_type": "code",
      "metadata": {
        "colab": {
          "base_uri": "https://localhost:8080/"
        },
        "id": "K-w6VQk4xqe4",
        "outputId": "d3b9f507-d627-411a-9a5b-eb3b41bbf943"
      },
      "source": [
        "print('\\nDígito predito: ', y_pred[3].argmax())"
      ],
      "execution_count": 31,
      "outputs": [
        {
          "output_type": "stream",
          "name": "stdout",
          "text": [
            "\n",
            "Dígito predito:  7\n"
          ]
        }
      ]
    },
    {
      "cell_type": "code",
      "metadata": {
        "id": "bkRORpD-qYQy",
        "colab": {
          "base_uri": "https://localhost:8080/"
        },
        "outputId": "f9943bdf-9d1f-4983-b3a7-bce6b80b17f4"
      },
      "source": [
        "y_pred_labels = [i.argmax() for i in y_pred]\n",
        "y_pred_labels[:20]"
      ],
      "execution_count": 33,
      "outputs": [
        {
          "output_type": "execute_result",
          "data": {
            "text/plain": [
              "[4, 9, 9, 7, 1, 1, 9, 0, 7, 8, 3, 4, 8, 6, 3, 8, 0, 9, 6, 2]"
            ]
          },
          "metadata": {},
          "execution_count": 33
        }
      ]
    },
    {
      "cell_type": "markdown",
      "metadata": {
        "id": "zEOo1aZlj_GE"
      },
      "source": [
        "### Matriz de Confusão"
      ]
    },
    {
      "cell_type": "code",
      "metadata": {
        "colab": {
          "base_uri": "https://localhost:8080/",
          "height": 636
        },
        "id": "vN5sh2gRj-dl",
        "outputId": "b790c390-2283-4866-d41d-0bd795064072"
      },
      "source": [
        "cm = tf.math.confusion_matrix(labels=y_test, predictions=y_pred_labels)\n",
        "\n",
        "import seaborn as sn\n",
        "plt.figure(figsize = (10,7))\n",
        "sn.heatmap(cm, annot=True, fmt='d')\n",
        "plt.ylabel('Truth')\n",
        "plt.xlabel('Predicted')"
      ],
      "execution_count": 35,
      "outputs": [
        {
          "output_type": "execute_result",
          "data": {
            "text/plain": [
              "Text(0.5, 47.7222222222222, 'Predicted')"
            ]
          },
          "metadata": {},
          "execution_count": 35
        },
        {
          "output_type": "display_data",
          "data": {
            "text/plain": [
              "<Figure size 1000x700 with 2 Axes>"
            ],
            "image/png": "[encoded data removed]"
          },
          "metadata": {}
        }
      ]
    }
  ]
}