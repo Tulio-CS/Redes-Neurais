{
  "nbformat": 4,
  "nbformat_minor": 0,
  "metadata": {
    "colab": {
      "provenance": []
    },
    "kernelspec": {
      "name": "python3",
      "display_name": "Python 3"
    }
  },
  "cells": [
    {
      "cell_type": "markdown",
      "source": [
        "## Importa pacotes"
      ],
      "metadata": {
        "id": "D_4i-If0zlW_"
      }
    },
    {
      "cell_type": "code",
      "metadata": {
        "id": "tuHze6yVZpAd"
      },
      "source": [
        "# mlp for the blobs multi-class classification problem with cross-entropy loss\n",
        "from sklearn.datasets import make_blobs\n",
        "from tensorflow import keras\n",
        "from keras.layers import Dense\n",
        "from keras.models import Sequential\n",
        "from tensorflow.keras.optimizers import SGD, Adam\n",
        "from tensorflow.keras.utils import to_categorical\n",
        "from numpy import where\n",
        "from matplotlib import pyplot\n",
        "from tensorflow import random\n",
        "import numpy as np #Manipução de Arrays\n",
        "from sklearn.preprocessing import OneHotEncoder\n",
        "\n",
        "\"\"\"**Inicializando semente aleatoria**\"\"\"\n",
        "\n",
        "seed = 123\n",
        "np.random.seed(seed)\n",
        "random.set_seed(seed)"
      ],
      "execution_count": 1,
      "outputs": []
    },
    {
      "cell_type": "markdown",
      "source": [
        "## Gera os dados"
      ],
      "metadata": {
        "id": "P0x_Q1f9zsBO"
      }
    },
    {
      "cell_type": "code",
      "metadata": {
        "id": "fX5mIOXwZyjM"
      },
      "source": [
        "# generate 2d classification dataset\n",
        "X, y = make_blobs(n_samples=1000, centers=3, n_features=2, cluster_std=1, random_state=12342)"
      ],
      "execution_count": 2,
      "outputs": []
    },
    {
      "cell_type": "markdown",
      "source": [
        "## **NÃO PRECISA**"
      ],
      "metadata": {
        "id": "yYC5jZzYziHl"
      }
    },
    {
      "cell_type": "code",
      "source": [
        "y"
      ],
      "metadata": {
        "id": "sXK_yM2S5sQC"
      },
      "execution_count": null,
      "outputs": []
    },
    {
      "cell_type": "code",
      "source": [
        "list(X.T[1])"
      ],
      "metadata": {
        "id": "Zd8ssz_Rmmqh"
      },
      "execution_count": null,
      "outputs": []
    },
    {
      "cell_type": "code",
      "source": [
        "import pandas as pd\n",
        "\n",
        "df = pd.DataFrame({'X0':X.T[0], 'X1':X.T[1], 'y':y})\n",
        "df[df['y']==1].head(20)"
      ],
      "metadata": {
        "id": "TDihZIuAmSUa"
      },
      "execution_count": null,
      "outputs": []
    },
    {
      "cell_type": "code",
      "source": [
        "df"
      ],
      "metadata": {
        "id": "I-zm-lWiq-B-"
      },
      "execution_count": null,
      "outputs": []
    },
    {
      "cell_type": "code",
      "source": [
        "list(range(10, 101, 5))"
      ],
      "metadata": {
        "colab": {
          "base_uri": "https://localhost:8080/"
        },
        "id": "kHRqDeUGpkZ3",
        "outputId": "59e0f1bd-85ad-4175-bcc5-c2ca9c60284c"
      },
      "execution_count": null,
      "outputs": [
        {
          "output_type": "execute_result",
          "data": {
            "text/plain": [
              "[10, 15, 20, 25, 30, 35, 40, 45, 50, 55, 60, 65, 70, 75, 80, 85, 90, 95, 100]"
            ]
          },
          "metadata": {},
          "execution_count": 36
        }
      ]
    },
    {
      "cell_type": "code",
      "source": [
        "\n",
        "for j in range(3):\n",
        "  print(j)\n",
        "\n"
      ],
      "metadata": {
        "colab": {
          "base_uri": "https://localhost:8080/"
        },
        "id": "0129UoDgoro_",
        "outputId": "ec116a55-57b1-4f73-e2ad-e05fefda01f2"
      },
      "execution_count": null,
      "outputs": [
        {
          "output_type": "stream",
          "name": "stdout",
          "text": [
            "0\n",
            "1\n",
            "2\n"
          ]
        }
      ]
    },
    {
      "cell_type": "code",
      "source": [
        "X"
      ],
      "metadata": {
        "colab": {
          "base_uri": "https://localhost:8080/"
        },
        "id": "HgCIphw9qIxe",
        "outputId": "9b0f21bd-bc03-47fd-bccf-b9c1a63d9ce7"
      },
      "execution_count": null,
      "outputs": [
        {
          "output_type": "execute_result",
          "data": {
            "text/plain": [
              "array([[  0.48719811,  -0.43160548],\n",
              "       [ -1.48958879,  -3.47915742],\n",
              "       [ -2.06250444,  -7.73300419],\n",
              "       ...,\n",
              "       [ -4.4839941 ,  -3.17623663],\n",
              "       [ -1.92705839,   2.94801349],\n",
              "       [ -2.32988529, -10.66109273]])"
            ]
          },
          "metadata": {},
          "execution_count": 43
        }
      ]
    },
    {
      "cell_type": "code",
      "source": [
        "where(y == 0)"
      ],
      "metadata": {
        "colab": {
          "base_uri": "https://localhost:8080/"
        },
        "id": "FvIdnloNqk_V",
        "outputId": "6ac40e14-4a49-4d35-b5a2-bd4aa1619c2a"
      },
      "execution_count": null,
      "outputs": [
        {
          "output_type": "execute_result",
          "data": {
            "text/plain": [
              "(array([  3,   5,  11,  13,  14,  21,  22,  28,  30,  31,  35,  36,  39,\n",
              "         45,  46,  49,  50,  52,  57,  61,  63,  64,  66,  69,  77,  81,\n",
              "         84,  91,  93,  94,  97,  99, 107, 108, 110, 114, 115, 116, 117,\n",
              "        120, 122, 124, 127, 129, 131, 132, 133, 135, 142, 146, 147, 153,\n",
              "        155, 160, 164, 166, 173, 181, 188, 189, 190, 195, 208, 210, 214,\n",
              "        216, 218, 223, 225, 227, 237, 240, 244, 245, 247, 250, 253, 255,\n",
              "        259, 265, 267, 271, 272, 274, 276, 278, 279, 283, 285, 287, 293,\n",
              "        297, 299, 301, 303, 304, 306, 308, 309, 315, 316, 320, 323, 324,\n",
              "        327, 328, 329, 331, 332, 336, 341, 342, 345, 346, 349, 353, 355,\n",
              "        357, 358, 359, 363, 367, 368, 369, 372, 373, 374, 379, 381, 387,\n",
              "        393, 394, 396, 402, 409, 410, 416, 419, 423, 424, 425, 435, 436,\n",
              "        439, 444, 445, 446, 447, 449, 450, 451, 452, 458, 464, 465, 469,\n",
              "        471, 472, 475, 476, 477, 478, 480, 481, 484, 485, 486, 488, 490,\n",
              "        496, 499, 500, 501, 502, 504, 505, 510, 512, 513, 518, 522, 539,\n",
              "        543, 544, 552, 560, 563, 573, 577, 578, 579, 580, 582, 584, 585,\n",
              "        601, 604, 605, 607, 613, 614, 616, 619, 620, 621, 629, 631, 633,\n",
              "        634, 637, 641, 643, 647, 648, 650, 651, 655, 660, 663, 664, 670,\n",
              "        674, 675, 683, 692, 695, 699, 700, 701, 703, 704, 707, 709, 711,\n",
              "        718, 720, 722, 731, 732, 733, 734, 735, 738, 740, 741, 743, 745,\n",
              "        746, 748, 751, 756, 757, 764, 767, 768, 772, 774, 776, 778, 779,\n",
              "        781, 786, 799, 800, 803, 805, 808, 809, 810, 814, 818, 823, 826,\n",
              "        827, 830, 831, 836, 838, 842, 847, 850, 854, 857, 859, 866, 867,\n",
              "        868, 870, 877, 878, 882, 888, 889, 895, 896, 902, 903, 906, 907,\n",
              "        910, 911, 914, 916, 920, 921, 922, 923, 924, 928, 933, 934, 942,\n",
              "        943, 944, 945, 946, 955, 957, 961, 965, 966, 968, 971, 974, 975,\n",
              "        979, 982, 984, 985, 987, 989, 994, 996, 999]),)"
            ]
          },
          "metadata": {},
          "execution_count": 45
        }
      ]
    },
    {
      "cell_type": "markdown",
      "source": [
        "## Plota os dados"
      ],
      "metadata": {
        "id": "gc27_gjhzeJe"
      }
    },
    {
      "cell_type": "code",
      "metadata": {
        "id": "HoTcOECOeJK2",
        "colab": {
          "base_uri": "https://localhost:8080/",
          "height": 472
        },
        "outputId": "a23fe743-d55c-4f57-b4f4-9f1caa46243e"
      },
      "source": [
        "# select indices of points with each class label\n",
        "for i in range(3):\n",
        "  samples_ix = where(y == i)\n",
        "  pyplot.scatter(X[samples_ix, 0], X[samples_ix, 1])\n",
        "pyplot.xlabel('X0')\n",
        "pyplot.ylabel('X1')\n",
        "pyplot.title('Dados')\n",
        "pyplot.show()"
      ],
      "execution_count": 6,
      "outputs": [
        {
          "output_type": "display_data",
          "data": {
            "text/plain": [
              "<Figure size 640x480 with 1 Axes>"
            ],
            "image/png": "[encoded data removed]"
          },
          "metadata": {}
        }
      ]
    },
    {
      "cell_type": "markdown",
      "source": [
        "## **NÃO PRECISA**"
      ],
      "metadata": {
        "id": "dNMuaH1czaZe"
      }
    },
    {
      "cell_type": "code",
      "metadata": {
        "id": "8xA1uD00b3ah",
        "colab": {
          "base_uri": "https://localhost:8080/"
        },
        "outputId": "196c85c2-765c-42f7-e828-3bc2909e1cc5"
      },
      "source": [
        "y[:10]"
      ],
      "execution_count": 10,
      "outputs": [
        {
          "output_type": "execute_result",
          "data": {
            "text/plain": [
              "array([1, 0, 2, 2, 2, 0, 2, 1, 0, 0])"
            ]
          },
          "metadata": {},
          "execution_count": 10
        }
      ]
    },
    {
      "cell_type": "code",
      "metadata": {
        "id": "2HzT3laoZzUD"
      },
      "source": [
        "# one hot encode output variable\n",
        "yc = to_categorical(y)"
      ],
      "execution_count": 9,
      "outputs": []
    },
    {
      "cell_type": "code",
      "source": [
        "yc[0:10]"
      ],
      "metadata": {
        "colab": {
          "base_uri": "https://localhost:8080/"
        },
        "id": "gOEMZMHEra4c",
        "outputId": "84ce31b8-2d6b-4ace-8775-3b9f819ef35c"
      },
      "execution_count": 11,
      "outputs": [
        {
          "output_type": "execute_result",
          "data": {
            "text/plain": [
              "array([[0., 1., 0.],\n",
              "       [1., 0., 0.],\n",
              "       [0., 0., 1.],\n",
              "       [0., 0., 1.],\n",
              "       [0., 0., 1.],\n",
              "       [1., 0., 0.],\n",
              "       [0., 0., 1.],\n",
              "       [0., 1., 0.],\n",
              "       [1., 0., 0.],\n",
              "       [1., 0., 0.]], dtype=float32)"
            ]
          },
          "metadata": {},
          "execution_count": 11
        }
      ]
    },
    {
      "cell_type": "code",
      "source": [
        "X[:10,]"
      ],
      "metadata": {
        "colab": {
          "base_uri": "https://localhost:8080/"
        },
        "id": "1VtAJ4w5sXNj",
        "outputId": "78891cf7-f1bf-4cfd-e69c-79db3eda9d8b"
      },
      "execution_count": 12,
      "outputs": [
        {
          "output_type": "execute_result",
          "data": {
            "text/plain": [
              "array([[ 5.88708215, -7.10807998],\n",
              "       [ 5.65685046, -4.41306331],\n",
              "       [-0.03938184, -4.78432089],\n",
              "       [-0.82982071, -4.39443887],\n",
              "       [-1.68891764, -0.43923833],\n",
              "       [ 2.70418769, -2.17057052],\n",
              "       [-0.08015602, -3.16239163],\n",
              "       [ 6.98422979, -4.58305055],\n",
              "       [ 4.07790547, -2.13906264],\n",
              "       [ 4.00735156, -1.68668439]])"
            ]
          },
          "metadata": {},
          "execution_count": 12
        }
      ]
    },
    {
      "cell_type": "markdown",
      "source": [
        "## Split: treinamento, validação and teste"
      ],
      "metadata": {
        "id": "3QqAf1H5yi7X"
      }
    },
    {
      "cell_type": "code",
      "metadata": {
        "id": "xtJUn82HZ0BT"
      },
      "source": [
        "# split into train, validação and test\n",
        "n_train = 600\n",
        "trainX, validX, testX = X[:n_train, :], X[n_train:n_train+300, :], X[n_train+300:, :]\n",
        "trainy, validy, testy = yc[:n_train], yc[n_train:n_train+300], yc[n_train+300:]"
      ],
      "execution_count": 13,
      "outputs": []
    },
    {
      "cell_type": "markdown",
      "source": [
        "## Modelo da Rede"
      ],
      "metadata": {
        "id": "8aPf7XYlymfv"
      }
    },
    {
      "cell_type": "code",
      "metadata": {
        "id": "1Q0F9x1_aE1T"
      },
      "source": [
        "seed = 123\n",
        "np.random.seed(seed)\n",
        "random.set_seed(seed)\n",
        "\n",
        "# Define model de Classificação\n",
        "model = Sequential()\n",
        "model.add(Dense(10, input_dim=2, activation='relu'))\n",
        "model.add(Dense(10, activation='relu'))\n",
        "model.add(Dense(3, activation='softmax'))\n",
        "\n",
        "model.compile(loss='categorical_crossentropy', optimizer='Adam', metrics=['accuracy'])"
      ],
      "execution_count": 16,
      "outputs": []
    },
    {
      "cell_type": "markdown",
      "source": [
        "## Treinamento"
      ],
      "metadata": {
        "id": "HbNF0e5UypaG"
      }
    },
    {
      "cell_type": "code",
      "metadata": {
        "id": "V7XwfL48atBn",
        "colab": {
          "base_uri": "https://localhost:8080/"
        },
        "outputId": "e9f74ff1-d001-4ae2-b5d3-b3834e8597d3"
      },
      "source": [
        "# fit model\n",
        "history = model.fit(trainX, trainy, validation_data=(validX, validy), batch_size = 32, epochs=300, verbose=1)"
      ],
      "execution_count": 17,
      "outputs": [
        {
          "output_type": "stream",
          "name": "stdout",
          "text": [
            "Epoch 1/300\n",
            "19/19 [==============================] - 1s 10ms/step - loss: 0.9896 - accuracy: 0.6617 - val_loss: 0.8577 - val_accuracy: 0.6967\n",
            "Epoch 2/300\n",
            "19/19 [==============================] - 0s 4ms/step - loss: 0.8209 - accuracy: 0.6533 - val_loss: 0.7390 - val_accuracy: 0.6867\n",
            "Epoch 3/300\n",
            "19/19 [==============================] - 0s 3ms/step - loss: 0.7118 - accuracy: 0.6550 - val_loss: 0.6583 - val_accuracy: 0.6933\n",
            "Epoch 4/300\n",
            "19/19 [==============================] - 0s 4ms/step - loss: 0.6385 - accuracy: 0.6667 - val_loss: 0.5986 - val_accuracy: 0.7167\n",
            "Epoch 5/300\n",
            "19/19 [==============================] - 0s 4ms/step - loss: 0.5842 - accuracy: 0.6950 - val_loss: 0.5512 - val_accuracy: 0.7467\n",
            "Epoch 6/300\n",
            "19/19 [==============================] - 0s 4ms/step - loss: 0.5411 - accuracy: 0.7017 - val_loss: 0.5128 - val_accuracy: 0.7533\n",
            "Epoch 7/300\n",
            "19/19 [==============================] - 0s 3ms/step - loss: 0.5090 - accuracy: 0.7133 - val_loss: 0.4831 - val_accuracy: 0.7600\n",
            "Epoch 8/300\n",
            "19/19 [==============================] - 0s 3ms/step - loss: 0.4827 - accuracy: 0.7183 - val_loss: 0.4590 - val_accuracy: 0.7633\n",
            "Epoch 9/300\n",
            "19/19 [==============================] - 0s 3ms/step - loss: 0.4617 - accuracy: 0.7683 - val_loss: 0.4404 - val_accuracy: 0.8033\n",
            "Epoch 10/300\n",
            "19/19 [==============================] - 0s 3ms/step - loss: 0.4435 - accuracy: 0.7817 - val_loss: 0.4228 - val_accuracy: 0.8233\n",
            "Epoch 11/300\n",
            "19/19 [==============================] - 0s 4ms/step - loss: 0.4283 - accuracy: 0.8050 - val_loss: 0.4070 - val_accuracy: 0.8133\n",
            "Epoch 12/300\n",
            "19/19 [==============================] - 0s 4ms/step - loss: 0.4154 - accuracy: 0.8267 - val_loss: 0.3946 - val_accuracy: 0.8500\n",
            "Epoch 13/300\n",
            "19/19 [==============================] - 0s 3ms/step - loss: 0.4025 - accuracy: 0.8333 - val_loss: 0.3822 - val_accuracy: 0.8600\n",
            "Epoch 14/300\n",
            "19/19 [==============================] - 0s 4ms/step - loss: 0.3917 - accuracy: 0.8533 - val_loss: 0.3724 - val_accuracy: 0.8733\n",
            "Epoch 15/300\n",
            "19/19 [==============================] - 0s 4ms/step - loss: 0.3833 - accuracy: 0.8500 - val_loss: 0.3609 - val_accuracy: 0.8700\n",
            "Epoch 16/300\n",
            "19/19 [==============================] - 0s 3ms/step - loss: 0.3712 - accuracy: 0.8950 - val_loss: 0.3554 - val_accuracy: 0.9267\n",
            "Epoch 17/300\n",
            "19/19 [==============================] - 0s 3ms/step - loss: 0.3630 - accuracy: 0.8950 - val_loss: 0.3429 - val_accuracy: 0.9000\n",
            "Epoch 18/300\n",
            "19/19 [==============================] - 0s 3ms/step - loss: 0.3533 - accuracy: 0.9233 - val_loss: 0.3351 - val_accuracy: 0.9133\n",
            "Epoch 19/300\n",
            "19/19 [==============================] - 0s 3ms/step - loss: 0.3447 - accuracy: 0.9267 - val_loss: 0.3261 - val_accuracy: 0.9167\n",
            "Epoch 20/300\n",
            "19/19 [==============================] - 0s 4ms/step - loss: 0.3364 - accuracy: 0.9200 - val_loss: 0.3181 - val_accuracy: 0.9200\n",
            "Epoch 21/300\n",
            "19/19 [==============================] - 0s 4ms/step - loss: 0.3300 - accuracy: 0.9517 - val_loss: 0.3098 - val_accuracy: 0.9267\n",
            "Epoch 22/300\n",
            "19/19 [==============================] - 0s 3ms/step - loss: 0.3204 - accuracy: 0.9300 - val_loss: 0.3026 - val_accuracy: 0.9500\n",
            "Epoch 23/300\n",
            "19/19 [==============================] - 0s 3ms/step - loss: 0.3125 - accuracy: 0.9550 - val_loss: 0.2948 - val_accuracy: 0.9533\n",
            "Epoch 24/300\n",
            "19/19 [==============================] - 0s 4ms/step - loss: 0.3050 - accuracy: 0.9333 - val_loss: 0.2873 - val_accuracy: 0.9567\n",
            "Epoch 25/300\n",
            "19/19 [==============================] - 0s 3ms/step - loss: 0.2979 - accuracy: 0.9667 - val_loss: 0.2808 - val_accuracy: 0.9567\n",
            "Epoch 26/300\n",
            "19/19 [==============================] - 0s 4ms/step - loss: 0.2903 - accuracy: 0.9417 - val_loss: 0.2726 - val_accuracy: 0.9567\n",
            "Epoch 27/300\n",
            "19/19 [==============================] - 0s 4ms/step - loss: 0.2836 - accuracy: 0.9700 - val_loss: 0.2660 - val_accuracy: 0.9567\n",
            "Epoch 28/300\n",
            "19/19 [==============================] - 0s 4ms/step - loss: 0.2752 - accuracy: 0.9567 - val_loss: 0.2589 - val_accuracy: 0.9567\n",
            "Epoch 29/300\n",
            "19/19 [==============================] - 0s 3ms/step - loss: 0.2677 - accuracy: 0.9700 - val_loss: 0.2529 - val_accuracy: 0.9633\n",
            "Epoch 30/300\n",
            "19/19 [==============================] - 0s 3ms/step - loss: 0.2604 - accuracy: 0.9667 - val_loss: 0.2457 - val_accuracy: 0.9600\n",
            "Epoch 31/300\n",
            "19/19 [==============================] - 0s 3ms/step - loss: 0.2545 - accuracy: 0.9650 - val_loss: 0.2392 - val_accuracy: 0.9667\n",
            "Epoch 32/300\n",
            "19/19 [==============================] - 0s 3ms/step - loss: 0.2461 - accuracy: 0.9717 - val_loss: 0.2338 - val_accuracy: 0.9700\n",
            "Epoch 33/300\n",
            "19/19 [==============================] - 0s 3ms/step - loss: 0.2404 - accuracy: 0.9767 - val_loss: 0.2256 - val_accuracy: 0.9633\n",
            "Epoch 34/300\n",
            "19/19 [==============================] - 0s 3ms/step - loss: 0.2338 - accuracy: 0.9717 - val_loss: 0.2196 - val_accuracy: 0.9667\n",
            "Epoch 35/300\n",
            "19/19 [==============================] - 0s 3ms/step - loss: 0.2266 - accuracy: 0.9700 - val_loss: 0.2143 - val_accuracy: 0.9700\n",
            "Epoch 36/300\n",
            "19/19 [==============================] - 0s 3ms/step - loss: 0.2209 - accuracy: 0.9800 - val_loss: 0.2075 - val_accuracy: 0.9667\n",
            "Epoch 37/300\n",
            "19/19 [==============================] - 0s 3ms/step - loss: 0.2151 - accuracy: 0.9700 - val_loss: 0.2031 - val_accuracy: 0.9800\n",
            "Epoch 38/300\n",
            "19/19 [==============================] - 0s 3ms/step - loss: 0.2079 - accuracy: 0.9800 - val_loss: 0.1969 - val_accuracy: 0.9733\n",
            "Epoch 39/300\n",
            "19/19 [==============================] - 0s 3ms/step - loss: 0.2021 - accuracy: 0.9783 - val_loss: 0.1908 - val_accuracy: 0.9700\n",
            "Epoch 40/300\n",
            "19/19 [==============================] - 0s 3ms/step - loss: 0.1966 - accuracy: 0.9750 - val_loss: 0.1873 - val_accuracy: 0.9767\n",
            "Epoch 41/300\n",
            "19/19 [==============================] - 0s 3ms/step - loss: 0.1908 - accuracy: 0.9833 - val_loss: 0.1810 - val_accuracy: 0.9800\n",
            "Epoch 42/300\n",
            "19/19 [==============================] - 0s 3ms/step - loss: 0.1853 - accuracy: 0.9817 - val_loss: 0.1757 - val_accuracy: 0.9733\n",
            "Epoch 43/300\n",
            "19/19 [==============================] - 0s 3ms/step - loss: 0.1798 - accuracy: 0.9833 - val_loss: 0.1708 - val_accuracy: 0.9733\n",
            "Epoch 44/300\n",
            "19/19 [==============================] - 0s 3ms/step - loss: 0.1750 - accuracy: 0.9783 - val_loss: 0.1668 - val_accuracy: 0.9800\n",
            "Epoch 45/300\n",
            "19/19 [==============================] - 0s 3ms/step - loss: 0.1693 - accuracy: 0.9800 - val_loss: 0.1624 - val_accuracy: 0.9833\n",
            "Epoch 46/300\n",
            "19/19 [==============================] - 0s 3ms/step - loss: 0.1643 - accuracy: 0.9833 - val_loss: 0.1596 - val_accuracy: 0.9800\n",
            "Epoch 47/300\n",
            "19/19 [==============================] - 0s 3ms/step - loss: 0.1595 - accuracy: 0.9833 - val_loss: 0.1540 - val_accuracy: 0.9800\n",
            "Epoch 48/300\n",
            "19/19 [==============================] - 0s 4ms/step - loss: 0.1559 - accuracy: 0.9817 - val_loss: 0.1523 - val_accuracy: 0.9800\n",
            "Epoch 49/300\n",
            "19/19 [==============================] - 0s 4ms/step - loss: 0.1527 - accuracy: 0.9783 - val_loss: 0.1470 - val_accuracy: 0.9833\n",
            "Epoch 50/300\n",
            "19/19 [==============================] - 0s 3ms/step - loss: 0.1474 - accuracy: 0.9833 - val_loss: 0.1446 - val_accuracy: 0.9800\n",
            "Epoch 51/300\n",
            "19/19 [==============================] - 0s 3ms/step - loss: 0.1439 - accuracy: 0.9850 - val_loss: 0.1415 - val_accuracy: 0.9800\n",
            "Epoch 52/300\n",
            "19/19 [==============================] - 0s 3ms/step - loss: 0.1401 - accuracy: 0.9817 - val_loss: 0.1382 - val_accuracy: 0.9800\n",
            "Epoch 53/300\n",
            "19/19 [==============================] - 0s 3ms/step - loss: 0.1361 - accuracy: 0.9817 - val_loss: 0.1350 - val_accuracy: 0.9767\n",
            "Epoch 54/300\n",
            "19/19 [==============================] - 0s 3ms/step - loss: 0.1330 - accuracy: 0.9833 - val_loss: 0.1316 - val_accuracy: 0.9767\n",
            "Epoch 55/300\n",
            "19/19 [==============================] - 0s 3ms/step - loss: 0.1304 - accuracy: 0.9850 - val_loss: 0.1293 - val_accuracy: 0.9767\n",
            "Epoch 56/300\n",
            "19/19 [==============================] - 0s 3ms/step - loss: 0.1267 - accuracy: 0.9833 - val_loss: 0.1276 - val_accuracy: 0.9767\n",
            "Epoch 57/300\n",
            "19/19 [==============================] - 0s 3ms/step - loss: 0.1238 - accuracy: 0.9850 - val_loss: 0.1242 - val_accuracy: 0.9733\n",
            "Epoch 58/300\n",
            "19/19 [==============================] - 0s 3ms/step - loss: 0.1217 - accuracy: 0.9833 - val_loss: 0.1212 - val_accuracy: 0.9700\n",
            "Epoch 59/300\n",
            "19/19 [==============================] - 0s 3ms/step - loss: 0.1176 - accuracy: 0.9867 - val_loss: 0.1196 - val_accuracy: 0.9767\n",
            "Epoch 60/300\n",
            "19/19 [==============================] - 0s 3ms/step - loss: 0.1159 - accuracy: 0.9817 - val_loss: 0.1169 - val_accuracy: 0.9733\n",
            "Epoch 61/300\n",
            "19/19 [==============================] - 0s 3ms/step - loss: 0.1132 - accuracy: 0.9833 - val_loss: 0.1153 - val_accuracy: 0.9800\n",
            "Epoch 62/300\n",
            "19/19 [==============================] - 0s 3ms/step - loss: 0.1115 - accuracy: 0.9833 - val_loss: 0.1128 - val_accuracy: 0.9767\n",
            "Epoch 63/300\n",
            "19/19 [==============================] - 0s 3ms/step - loss: 0.1083 - accuracy: 0.9833 - val_loss: 0.1109 - val_accuracy: 0.9767\n",
            "Epoch 64/300\n",
            "19/19 [==============================] - 0s 3ms/step - loss: 0.1069 - accuracy: 0.9800 - val_loss: 0.1099 - val_accuracy: 0.9800\n",
            "Epoch 65/300\n",
            "19/19 [==============================] - 0s 4ms/step - loss: 0.1037 - accuracy: 0.9833 - val_loss: 0.1071 - val_accuracy: 0.9733\n",
            "Epoch 66/300\n",
            "19/19 [==============================] - 0s 4ms/step - loss: 0.1023 - accuracy: 0.9833 - val_loss: 0.1055 - val_accuracy: 0.9800\n",
            "Epoch 67/300\n",
            "19/19 [==============================] - 0s 3ms/step - loss: 0.1000 - accuracy: 0.9850 - val_loss: 0.1058 - val_accuracy: 0.9800\n",
            "Epoch 68/300\n",
            "19/19 [==============================] - 0s 3ms/step - loss: 0.0987 - accuracy: 0.9833 - val_loss: 0.1032 - val_accuracy: 0.9833\n",
            "Epoch 69/300\n",
            "19/19 [==============================] - 0s 3ms/step - loss: 0.0964 - accuracy: 0.9833 - val_loss: 0.1009 - val_accuracy: 0.9733\n",
            "Epoch 70/300\n",
            "19/19 [==============================] - 0s 3ms/step - loss: 0.0950 - accuracy: 0.9833 - val_loss: 0.1004 - val_accuracy: 0.9800\n",
            "Epoch 71/300\n",
            "19/19 [==============================] - 0s 4ms/step - loss: 0.0937 - accuracy: 0.9850 - val_loss: 0.0988 - val_accuracy: 0.9800\n",
            "Epoch 72/300\n",
            "19/19 [==============================] - 0s 3ms/step - loss: 0.0919 - accuracy: 0.9850 - val_loss: 0.0986 - val_accuracy: 0.9800\n",
            "Epoch 73/300\n",
            "19/19 [==============================] - 0s 3ms/step - loss: 0.0920 - accuracy: 0.9817 - val_loss: 0.0958 - val_accuracy: 0.9767\n",
            "Epoch 74/300\n",
            "19/19 [==============================] - 0s 3ms/step - loss: 0.0893 - accuracy: 0.9850 - val_loss: 0.0959 - val_accuracy: 0.9800\n",
            "Epoch 75/300\n",
            "19/19 [==============================] - 0s 3ms/step - loss: 0.0891 - accuracy: 0.9817 - val_loss: 0.0935 - val_accuracy: 0.9767\n",
            "Epoch 76/300\n",
            "19/19 [==============================] - 0s 3ms/step - loss: 0.0864 - accuracy: 0.9833 - val_loss: 0.0937 - val_accuracy: 0.9800\n",
            "Epoch 77/300\n",
            "19/19 [==============================] - 0s 3ms/step - loss: 0.0860 - accuracy: 0.9817 - val_loss: 0.0921 - val_accuracy: 0.9800\n",
            "Epoch 78/300\n",
            "19/19 [==============================] - 0s 3ms/step - loss: 0.0847 - accuracy: 0.9800 - val_loss: 0.0910 - val_accuracy: 0.9800\n",
            "Epoch 79/300\n",
            "19/19 [==============================] - 0s 3ms/step - loss: 0.0834 - accuracy: 0.9850 - val_loss: 0.0896 - val_accuracy: 0.9800\n",
            "Epoch 80/300\n",
            "19/19 [==============================] - 0s 3ms/step - loss: 0.0826 - accuracy: 0.9867 - val_loss: 0.0895 - val_accuracy: 0.9800\n",
            "Epoch 81/300\n",
            "19/19 [==============================] - 0s 3ms/step - loss: 0.0823 - accuracy: 0.9800 - val_loss: 0.0879 - val_accuracy: 0.9800\n",
            "Epoch 82/300\n",
            "19/19 [==============================] - 0s 3ms/step - loss: 0.0816 - accuracy: 0.9833 - val_loss: 0.0896 - val_accuracy: 0.9800\n",
            "Epoch 83/300\n",
            "19/19 [==============================] - 0s 3ms/step - loss: 0.0819 - accuracy: 0.9817 - val_loss: 0.0862 - val_accuracy: 0.9800\n",
            "Epoch 84/300\n",
            "19/19 [==============================] - 0s 3ms/step - loss: 0.0791 - accuracy: 0.9833 - val_loss: 0.0861 - val_accuracy: 0.9800\n",
            "Epoch 85/300\n",
            "19/19 [==============================] - 0s 3ms/step - loss: 0.0785 - accuracy: 0.9833 - val_loss: 0.0863 - val_accuracy: 0.9800\n",
            "Epoch 86/300\n",
            "19/19 [==============================] - 0s 3ms/step - loss: 0.0774 - accuracy: 0.9833 - val_loss: 0.0842 - val_accuracy: 0.9800\n",
            "Epoch 87/300\n",
            "19/19 [==============================] - 0s 3ms/step - loss: 0.0767 - accuracy: 0.9867 - val_loss: 0.0849 - val_accuracy: 0.9800\n",
            "Epoch 88/300\n",
            "19/19 [==============================] - 0s 3ms/step - loss: 0.0771 - accuracy: 0.9817 - val_loss: 0.0831 - val_accuracy: 0.9800\n",
            "Epoch 89/300\n",
            "19/19 [==============================] - 0s 4ms/step - loss: 0.0755 - accuracy: 0.9783 - val_loss: 0.0834 - val_accuracy: 0.9800\n",
            "Epoch 90/300\n",
            "19/19 [==============================] - 0s 3ms/step - loss: 0.0748 - accuracy: 0.9817 - val_loss: 0.0821 - val_accuracy: 0.9800\n",
            "Epoch 91/300\n",
            "19/19 [==============================] - 0s 3ms/step - loss: 0.0738 - accuracy: 0.9800 - val_loss: 0.0810 - val_accuracy: 0.9800\n",
            "Epoch 92/300\n",
            "19/19 [==============================] - 0s 3ms/step - loss: 0.0742 - accuracy: 0.9833 - val_loss: 0.0811 - val_accuracy: 0.9800\n",
            "Epoch 93/300\n",
            "19/19 [==============================] - 0s 3ms/step - loss: 0.0746 - accuracy: 0.9833 - val_loss: 0.0805 - val_accuracy: 0.9800\n",
            "Epoch 94/300\n",
            "19/19 [==============================] - 0s 3ms/step - loss: 0.0722 - accuracy: 0.9817 - val_loss: 0.0815 - val_accuracy: 0.9800\n",
            "Epoch 95/300\n",
            "19/19 [==============================] - 0s 3ms/step - loss: 0.0725 - accuracy: 0.9783 - val_loss: 0.0799 - val_accuracy: 0.9800\n",
            "Epoch 96/300\n",
            "19/19 [==============================] - 0s 3ms/step - loss: 0.0715 - accuracy: 0.9850 - val_loss: 0.0794 - val_accuracy: 0.9800\n",
            "Epoch 97/300\n",
            "19/19 [==============================] - 0s 4ms/step - loss: 0.0711 - accuracy: 0.9767 - val_loss: 0.0791 - val_accuracy: 0.9800\n",
            "Epoch 98/300\n",
            "19/19 [==============================] - 0s 4ms/step - loss: 0.0701 - accuracy: 0.9800 - val_loss: 0.0784 - val_accuracy: 0.9800\n",
            "Epoch 99/300\n",
            "19/19 [==============================] - 0s 5ms/step - loss: 0.0700 - accuracy: 0.9850 - val_loss: 0.0804 - val_accuracy: 0.9800\n",
            "Epoch 100/300\n",
            "19/19 [==============================] - 0s 4ms/step - loss: 0.0699 - accuracy: 0.9817 - val_loss: 0.0777 - val_accuracy: 0.9800\n",
            "Epoch 101/300\n",
            "19/19 [==============================] - 0s 4ms/step - loss: 0.0697 - accuracy: 0.9850 - val_loss: 0.0775 - val_accuracy: 0.9800\n",
            "Epoch 102/300\n",
            "19/19 [==============================] - 0s 4ms/step - loss: 0.0693 - accuracy: 0.9767 - val_loss: 0.0776 - val_accuracy: 0.9800\n",
            "Epoch 103/300\n",
            "19/19 [==============================] - 0s 4ms/step - loss: 0.0679 - accuracy: 0.9800 - val_loss: 0.0772 - val_accuracy: 0.9800\n",
            "Epoch 104/300\n",
            "19/19 [==============================] - 0s 3ms/step - loss: 0.0678 - accuracy: 0.9800 - val_loss: 0.0769 - val_accuracy: 0.9800\n",
            "Epoch 105/300\n",
            "19/19 [==============================] - 0s 4ms/step - loss: 0.0682 - accuracy: 0.9817 - val_loss: 0.0767 - val_accuracy: 0.9800\n",
            "Epoch 106/300\n",
            "19/19 [==============================] - 0s 4ms/step - loss: 0.0682 - accuracy: 0.9800 - val_loss: 0.0758 - val_accuracy: 0.9800\n",
            "Epoch 107/300\n",
            "19/19 [==============================] - 0s 4ms/step - loss: 0.0668 - accuracy: 0.9817 - val_loss: 0.0754 - val_accuracy: 0.9800\n",
            "Epoch 108/300\n",
            "19/19 [==============================] - 0s 4ms/step - loss: 0.0666 - accuracy: 0.9783 - val_loss: 0.0753 - val_accuracy: 0.9800\n",
            "Epoch 109/300\n",
            "19/19 [==============================] - 0s 4ms/step - loss: 0.0674 - accuracy: 0.9817 - val_loss: 0.0759 - val_accuracy: 0.9800\n",
            "Epoch 110/300\n",
            "19/19 [==============================] - 0s 4ms/step - loss: 0.0668 - accuracy: 0.9783 - val_loss: 0.0746 - val_accuracy: 0.9800\n",
            "Epoch 111/300\n",
            "19/19 [==============================] - 0s 4ms/step - loss: 0.0656 - accuracy: 0.9833 - val_loss: 0.0757 - val_accuracy: 0.9800\n",
            "Epoch 112/300\n",
            "19/19 [==============================] - 0s 4ms/step - loss: 0.0651 - accuracy: 0.9783 - val_loss: 0.0739 - val_accuracy: 0.9800\n",
            "Epoch 113/300\n",
            "19/19 [==============================] - 0s 4ms/step - loss: 0.0647 - accuracy: 0.9817 - val_loss: 0.0747 - val_accuracy: 0.9800\n",
            "Epoch 114/300\n",
            "19/19 [==============================] - 0s 4ms/step - loss: 0.0670 - accuracy: 0.9817 - val_loss: 0.0735 - val_accuracy: 0.9800\n",
            "Epoch 115/300\n",
            "19/19 [==============================] - 0s 4ms/step - loss: 0.0657 - accuracy: 0.9833 - val_loss: 0.0734 - val_accuracy: 0.9800\n",
            "Epoch 116/300\n",
            "19/19 [==============================] - 0s 4ms/step - loss: 0.0644 - accuracy: 0.9783 - val_loss: 0.0725 - val_accuracy: 0.9800\n",
            "Epoch 117/300\n",
            "19/19 [==============================] - 0s 4ms/step - loss: 0.0639 - accuracy: 0.9800 - val_loss: 0.0727 - val_accuracy: 0.9800\n",
            "Epoch 118/300\n",
            "19/19 [==============================] - 0s 4ms/step - loss: 0.0637 - accuracy: 0.9800 - val_loss: 0.0739 - val_accuracy: 0.9800\n",
            "Epoch 119/300\n",
            "19/19 [==============================] - 0s 5ms/step - loss: 0.0631 - accuracy: 0.9783 - val_loss: 0.0728 - val_accuracy: 0.9800\n",
            "Epoch 120/300\n",
            "19/19 [==============================] - 0s 4ms/step - loss: 0.0628 - accuracy: 0.9800 - val_loss: 0.0733 - val_accuracy: 0.9800\n",
            "Epoch 121/300\n",
            "19/19 [==============================] - 0s 4ms/step - loss: 0.0637 - accuracy: 0.9800 - val_loss: 0.0720 - val_accuracy: 0.9800\n",
            "Epoch 122/300\n",
            "19/19 [==============================] - 0s 4ms/step - loss: 0.0621 - accuracy: 0.9800 - val_loss: 0.0728 - val_accuracy: 0.9800\n",
            "Epoch 123/300\n",
            "19/19 [==============================] - 0s 3ms/step - loss: 0.0623 - accuracy: 0.9783 - val_loss: 0.0714 - val_accuracy: 0.9800\n",
            "Epoch 124/300\n",
            "19/19 [==============================] - 0s 3ms/step - loss: 0.0642 - accuracy: 0.9800 - val_loss: 0.0729 - val_accuracy: 0.9800\n",
            "Epoch 125/300\n",
            "19/19 [==============================] - 0s 3ms/step - loss: 0.0630 - accuracy: 0.9767 - val_loss: 0.0714 - val_accuracy: 0.9800\n",
            "Epoch 126/300\n",
            "19/19 [==============================] - 0s 3ms/step - loss: 0.0618 - accuracy: 0.9850 - val_loss: 0.0710 - val_accuracy: 0.9800\n",
            "Epoch 127/300\n",
            "19/19 [==============================] - 0s 3ms/step - loss: 0.0620 - accuracy: 0.9767 - val_loss: 0.0719 - val_accuracy: 0.9800\n",
            "Epoch 128/300\n",
            "19/19 [==============================] - 0s 3ms/step - loss: 0.0624 - accuracy: 0.9817 - val_loss: 0.0708 - val_accuracy: 0.9800\n",
            "Epoch 129/300\n",
            "19/19 [==============================] - 0s 3ms/step - loss: 0.0621 - accuracy: 0.9783 - val_loss: 0.0710 - val_accuracy: 0.9800\n",
            "Epoch 130/300\n",
            "19/19 [==============================] - 0s 3ms/step - loss: 0.0608 - accuracy: 0.9817 - val_loss: 0.0699 - val_accuracy: 0.9800\n",
            "Epoch 131/300\n",
            "19/19 [==============================] - 0s 3ms/step - loss: 0.0613 - accuracy: 0.9817 - val_loss: 0.0700 - val_accuracy: 0.9800\n",
            "Epoch 132/300\n",
            "19/19 [==============================] - 0s 3ms/step - loss: 0.0599 - accuracy: 0.9800 - val_loss: 0.0707 - val_accuracy: 0.9800\n",
            "Epoch 133/300\n",
            "19/19 [==============================] - 0s 3ms/step - loss: 0.0599 - accuracy: 0.9800 - val_loss: 0.0704 - val_accuracy: 0.9800\n",
            "Epoch 134/300\n",
            "19/19 [==============================] - 0s 3ms/step - loss: 0.0606 - accuracy: 0.9783 - val_loss: 0.0707 - val_accuracy: 0.9800\n",
            "Epoch 135/300\n",
            "19/19 [==============================] - 0s 4ms/step - loss: 0.0597 - accuracy: 0.9800 - val_loss: 0.0697 - val_accuracy: 0.9800\n",
            "Epoch 136/300\n",
            "19/19 [==============================] - 0s 3ms/step - loss: 0.0595 - accuracy: 0.9800 - val_loss: 0.0699 - val_accuracy: 0.9800\n",
            "Epoch 137/300\n",
            "19/19 [==============================] - 0s 3ms/step - loss: 0.0596 - accuracy: 0.9800 - val_loss: 0.0698 - val_accuracy: 0.9800\n",
            "Epoch 138/300\n",
            "19/19 [==============================] - 0s 3ms/step - loss: 0.0593 - accuracy: 0.9800 - val_loss: 0.0694 - val_accuracy: 0.9800\n",
            "Epoch 139/300\n",
            "19/19 [==============================] - 0s 3ms/step - loss: 0.0593 - accuracy: 0.9817 - val_loss: 0.0688 - val_accuracy: 0.9800\n",
            "Epoch 140/300\n",
            "19/19 [==============================] - 0s 3ms/step - loss: 0.0593 - accuracy: 0.9833 - val_loss: 0.0691 - val_accuracy: 0.9800\n",
            "Epoch 141/300\n",
            "19/19 [==============================] - 0s 3ms/step - loss: 0.0588 - accuracy: 0.9783 - val_loss: 0.0686 - val_accuracy: 0.9800\n",
            "Epoch 142/300\n",
            "19/19 [==============================] - 0s 3ms/step - loss: 0.0590 - accuracy: 0.9750 - val_loss: 0.0682 - val_accuracy: 0.9800\n",
            "Epoch 143/300\n",
            "19/19 [==============================] - 0s 3ms/step - loss: 0.0596 - accuracy: 0.9817 - val_loss: 0.0691 - val_accuracy: 0.9800\n",
            "Epoch 144/300\n",
            "19/19 [==============================] - 0s 3ms/step - loss: 0.0582 - accuracy: 0.9783 - val_loss: 0.0684 - val_accuracy: 0.9800\n",
            "Epoch 145/300\n",
            "19/19 [==============================] - 0s 3ms/step - loss: 0.0583 - accuracy: 0.9800 - val_loss: 0.0683 - val_accuracy: 0.9800\n",
            "Epoch 146/300\n",
            "19/19 [==============================] - 0s 3ms/step - loss: 0.0584 - accuracy: 0.9767 - val_loss: 0.0693 - val_accuracy: 0.9800\n",
            "Epoch 147/300\n",
            "19/19 [==============================] - 0s 3ms/step - loss: 0.0580 - accuracy: 0.9817 - val_loss: 0.0677 - val_accuracy: 0.9800\n",
            "Epoch 148/300\n",
            "19/19 [==============================] - 0s 4ms/step - loss: 0.0600 - accuracy: 0.9783 - val_loss: 0.0688 - val_accuracy: 0.9800\n",
            "Epoch 149/300\n",
            "19/19 [==============================] - 0s 3ms/step - loss: 0.0591 - accuracy: 0.9817 - val_loss: 0.0673 - val_accuracy: 0.9800\n",
            "Epoch 150/300\n",
            "19/19 [==============================] - 0s 4ms/step - loss: 0.0577 - accuracy: 0.9783 - val_loss: 0.0686 - val_accuracy: 0.9800\n",
            "Epoch 151/300\n",
            "19/19 [==============================] - 0s 3ms/step - loss: 0.0575 - accuracy: 0.9817 - val_loss: 0.0673 - val_accuracy: 0.9800\n",
            "Epoch 152/300\n",
            "19/19 [==============================] - 0s 3ms/step - loss: 0.0577 - accuracy: 0.9783 - val_loss: 0.0682 - val_accuracy: 0.9800\n",
            "Epoch 153/300\n",
            "19/19 [==============================] - 0s 4ms/step - loss: 0.0570 - accuracy: 0.9800 - val_loss: 0.0671 - val_accuracy: 0.9800\n",
            "Epoch 154/300\n",
            "19/19 [==============================] - 0s 3ms/step - loss: 0.0579 - accuracy: 0.9783 - val_loss: 0.0680 - val_accuracy: 0.9800\n",
            "Epoch 155/300\n",
            "19/19 [==============================] - 0s 3ms/step - loss: 0.0566 - accuracy: 0.9800 - val_loss: 0.0666 - val_accuracy: 0.9800\n",
            "Epoch 156/300\n",
            "19/19 [==============================] - 0s 3ms/step - loss: 0.0580 - accuracy: 0.9850 - val_loss: 0.0683 - val_accuracy: 0.9800\n",
            "Epoch 157/300\n",
            "19/19 [==============================] - 0s 3ms/step - loss: 0.0581 - accuracy: 0.9767 - val_loss: 0.0677 - val_accuracy: 0.9800\n",
            "Epoch 158/300\n",
            "19/19 [==============================] - 0s 3ms/step - loss: 0.0565 - accuracy: 0.9783 - val_loss: 0.0679 - val_accuracy: 0.9800\n",
            "Epoch 159/300\n",
            "19/19 [==============================] - 0s 3ms/step - loss: 0.0563 - accuracy: 0.9783 - val_loss: 0.0665 - val_accuracy: 0.9800\n",
            "Epoch 160/300\n",
            "19/19 [==============================] - 0s 4ms/step - loss: 0.0562 - accuracy: 0.9817 - val_loss: 0.0665 - val_accuracy: 0.9800\n",
            "Epoch 161/300\n",
            "19/19 [==============================] - 0s 3ms/step - loss: 0.0556 - accuracy: 0.9800 - val_loss: 0.0673 - val_accuracy: 0.9800\n",
            "Epoch 162/300\n",
            "19/19 [==============================] - 0s 3ms/step - loss: 0.0562 - accuracy: 0.9783 - val_loss: 0.0664 - val_accuracy: 0.9800\n",
            "Epoch 163/300\n",
            "19/19 [==============================] - 0s 3ms/step - loss: 0.0562 - accuracy: 0.9800 - val_loss: 0.0660 - val_accuracy: 0.9800\n",
            "Epoch 164/300\n",
            "19/19 [==============================] - 0s 3ms/step - loss: 0.0559 - accuracy: 0.9800 - val_loss: 0.0663 - val_accuracy: 0.9800\n",
            "Epoch 165/300\n",
            "19/19 [==============================] - 0s 3ms/step - loss: 0.0570 - accuracy: 0.9767 - val_loss: 0.0663 - val_accuracy: 0.9800\n",
            "Epoch 166/300\n",
            "19/19 [==============================] - 0s 3ms/step - loss: 0.0554 - accuracy: 0.9800 - val_loss: 0.0642 - val_accuracy: 0.9800\n",
            "Epoch 167/300\n",
            "19/19 [==============================] - 0s 4ms/step - loss: 0.0563 - accuracy: 0.9817 - val_loss: 0.0645 - val_accuracy: 0.9800\n",
            "Epoch 168/300\n",
            "19/19 [==============================] - 0s 4ms/step - loss: 0.0560 - accuracy: 0.9750 - val_loss: 0.0651 - val_accuracy: 0.9800\n",
            "Epoch 169/300\n",
            "19/19 [==============================] - 0s 3ms/step - loss: 0.0551 - accuracy: 0.9800 - val_loss: 0.0655 - val_accuracy: 0.9800\n",
            "Epoch 170/300\n",
            "19/19 [==============================] - 0s 3ms/step - loss: 0.0553 - accuracy: 0.9817 - val_loss: 0.0650 - val_accuracy: 0.9800\n",
            "Epoch 171/300\n",
            "19/19 [==============================] - 0s 4ms/step - loss: 0.0566 - accuracy: 0.9767 - val_loss: 0.0662 - val_accuracy: 0.9800\n",
            "Epoch 172/300\n",
            "19/19 [==============================] - 0s 3ms/step - loss: 0.0556 - accuracy: 0.9833 - val_loss: 0.0650 - val_accuracy: 0.9800\n",
            "Epoch 173/300\n",
            "19/19 [==============================] - 0s 3ms/step - loss: 0.0551 - accuracy: 0.9800 - val_loss: 0.0662 - val_accuracy: 0.9800\n",
            "Epoch 174/300\n",
            "19/19 [==============================] - 0s 3ms/step - loss: 0.0549 - accuracy: 0.9800 - val_loss: 0.0653 - val_accuracy: 0.9800\n",
            "Epoch 175/300\n",
            "19/19 [==============================] - 0s 3ms/step - loss: 0.0562 - accuracy: 0.9833 - val_loss: 0.0678 - val_accuracy: 0.9800\n",
            "Epoch 176/300\n",
            "19/19 [==============================] - 0s 3ms/step - loss: 0.0553 - accuracy: 0.9800 - val_loss: 0.0646 - val_accuracy: 0.9800\n",
            "Epoch 177/300\n",
            "19/19 [==============================] - 0s 3ms/step - loss: 0.0555 - accuracy: 0.9817 - val_loss: 0.0645 - val_accuracy: 0.9800\n",
            "Epoch 178/300\n",
            "19/19 [==============================] - 0s 3ms/step - loss: 0.0550 - accuracy: 0.9800 - val_loss: 0.0648 - val_accuracy: 0.9767\n",
            "Epoch 179/300\n",
            "19/19 [==============================] - 0s 4ms/step - loss: 0.0548 - accuracy: 0.9783 - val_loss: 0.0648 - val_accuracy: 0.9800\n",
            "Epoch 180/300\n",
            "19/19 [==============================] - 0s 3ms/step - loss: 0.0550 - accuracy: 0.9783 - val_loss: 0.0656 - val_accuracy: 0.9800\n",
            "Epoch 181/300\n",
            "19/19 [==============================] - 0s 3ms/step - loss: 0.0549 - accuracy: 0.9800 - val_loss: 0.0651 - val_accuracy: 0.9800\n",
            "Epoch 182/300\n",
            "19/19 [==============================] - 0s 3ms/step - loss: 0.0543 - accuracy: 0.9800 - val_loss: 0.0645 - val_accuracy: 0.9800\n",
            "Epoch 183/300\n",
            "19/19 [==============================] - 0s 4ms/step - loss: 0.0543 - accuracy: 0.9800 - val_loss: 0.0650 - val_accuracy: 0.9800\n",
            "Epoch 184/300\n",
            "19/19 [==============================] - 0s 3ms/step - loss: 0.0545 - accuracy: 0.9783 - val_loss: 0.0654 - val_accuracy: 0.9800\n",
            "Epoch 185/300\n",
            "19/19 [==============================] - 0s 4ms/step - loss: 0.0541 - accuracy: 0.9800 - val_loss: 0.0643 - val_accuracy: 0.9800\n",
            "Epoch 186/300\n",
            "19/19 [==============================] - 0s 3ms/step - loss: 0.0563 - accuracy: 0.9833 - val_loss: 0.0640 - val_accuracy: 0.9800\n",
            "Epoch 187/300\n",
            "19/19 [==============================] - 0s 3ms/step - loss: 0.0547 - accuracy: 0.9783 - val_loss: 0.0654 - val_accuracy: 0.9800\n",
            "Epoch 188/300\n",
            "19/19 [==============================] - 0s 3ms/step - loss: 0.0544 - accuracy: 0.9800 - val_loss: 0.0635 - val_accuracy: 0.9800\n",
            "Epoch 189/300\n",
            "19/19 [==============================] - 0s 3ms/step - loss: 0.0535 - accuracy: 0.9817 - val_loss: 0.0641 - val_accuracy: 0.9800\n",
            "Epoch 190/300\n",
            "19/19 [==============================] - 0s 4ms/step - loss: 0.0538 - accuracy: 0.9817 - val_loss: 0.0646 - val_accuracy: 0.9800\n",
            "Epoch 191/300\n",
            "19/19 [==============================] - 0s 3ms/step - loss: 0.0537 - accuracy: 0.9800 - val_loss: 0.0636 - val_accuracy: 0.9800\n",
            "Epoch 192/300\n",
            "19/19 [==============================] - 0s 3ms/step - loss: 0.0540 - accuracy: 0.9800 - val_loss: 0.0646 - val_accuracy: 0.9800\n",
            "Epoch 193/300\n",
            "19/19 [==============================] - 0s 3ms/step - loss: 0.0537 - accuracy: 0.9783 - val_loss: 0.0636 - val_accuracy: 0.9800\n",
            "Epoch 194/300\n",
            "19/19 [==============================] - 0s 3ms/step - loss: 0.0538 - accuracy: 0.9800 - val_loss: 0.0632 - val_accuracy: 0.9800\n",
            "Epoch 195/300\n",
            "19/19 [==============================] - 0s 3ms/step - loss: 0.0537 - accuracy: 0.9800 - val_loss: 0.0638 - val_accuracy: 0.9800\n",
            "Epoch 196/300\n",
            "19/19 [==============================] - 0s 4ms/step - loss: 0.0536 - accuracy: 0.9817 - val_loss: 0.0646 - val_accuracy: 0.9800\n",
            "Epoch 197/300\n",
            "19/19 [==============================] - 0s 3ms/step - loss: 0.0534 - accuracy: 0.9800 - val_loss: 0.0636 - val_accuracy: 0.9800\n",
            "Epoch 198/300\n",
            "19/19 [==============================] - 0s 4ms/step - loss: 0.0527 - accuracy: 0.9800 - val_loss: 0.0640 - val_accuracy: 0.9800\n",
            "Epoch 199/300\n",
            "19/19 [==============================] - 0s 3ms/step - loss: 0.0529 - accuracy: 0.9800 - val_loss: 0.0631 - val_accuracy: 0.9800\n",
            "Epoch 200/300\n",
            "19/19 [==============================] - 0s 3ms/step - loss: 0.0550 - accuracy: 0.9750 - val_loss: 0.0635 - val_accuracy: 0.9800\n",
            "Epoch 201/300\n",
            "19/19 [==============================] - 0s 3ms/step - loss: 0.0531 - accuracy: 0.9817 - val_loss: 0.0626 - val_accuracy: 0.9800\n",
            "Epoch 202/300\n",
            "19/19 [==============================] - 0s 3ms/step - loss: 0.0531 - accuracy: 0.9800 - val_loss: 0.0639 - val_accuracy: 0.9800\n",
            "Epoch 203/300\n",
            "19/19 [==============================] - 0s 4ms/step - loss: 0.0545 - accuracy: 0.9800 - val_loss: 0.0646 - val_accuracy: 0.9800\n",
            "Epoch 204/300\n",
            "19/19 [==============================] - 0s 3ms/step - loss: 0.0536 - accuracy: 0.9767 - val_loss: 0.0625 - val_accuracy: 0.9800\n",
            "Epoch 205/300\n",
            "19/19 [==============================] - 0s 3ms/step - loss: 0.0534 - accuracy: 0.9817 - val_loss: 0.0629 - val_accuracy: 0.9800\n",
            "Epoch 206/300\n",
            "19/19 [==============================] - 0s 4ms/step - loss: 0.0531 - accuracy: 0.9817 - val_loss: 0.0631 - val_accuracy: 0.9800\n",
            "Epoch 207/300\n",
            "19/19 [==============================] - 0s 3ms/step - loss: 0.0530 - accuracy: 0.9800 - val_loss: 0.0628 - val_accuracy: 0.9800\n",
            "Epoch 208/300\n",
            "19/19 [==============================] - 0s 3ms/step - loss: 0.0529 - accuracy: 0.9800 - val_loss: 0.0622 - val_accuracy: 0.9800\n",
            "Epoch 209/300\n",
            "19/19 [==============================] - 0s 3ms/step - loss: 0.0524 - accuracy: 0.9800 - val_loss: 0.0629 - val_accuracy: 0.9800\n",
            "Epoch 210/300\n",
            "19/19 [==============================] - 0s 3ms/step - loss: 0.0537 - accuracy: 0.9783 - val_loss: 0.0621 - val_accuracy: 0.9800\n",
            "Epoch 211/300\n",
            "19/19 [==============================] - 0s 3ms/step - loss: 0.0532 - accuracy: 0.9817 - val_loss: 0.0624 - val_accuracy: 0.9800\n",
            "Epoch 212/300\n",
            "19/19 [==============================] - 0s 3ms/step - loss: 0.0529 - accuracy: 0.9800 - val_loss: 0.0619 - val_accuracy: 0.9800\n",
            "Epoch 213/300\n",
            "19/19 [==============================] - 0s 3ms/step - loss: 0.0530 - accuracy: 0.9783 - val_loss: 0.0623 - val_accuracy: 0.9800\n",
            "Epoch 214/300\n",
            "19/19 [==============================] - 0s 3ms/step - loss: 0.0527 - accuracy: 0.9800 - val_loss: 0.0620 - val_accuracy: 0.9800\n",
            "Epoch 215/300\n",
            "19/19 [==============================] - 0s 3ms/step - loss: 0.0528 - accuracy: 0.9800 - val_loss: 0.0618 - val_accuracy: 0.9800\n",
            "Epoch 216/300\n",
            "19/19 [==============================] - 0s 4ms/step - loss: 0.0561 - accuracy: 0.9750 - val_loss: 0.0633 - val_accuracy: 0.9800\n",
            "Epoch 217/300\n",
            "19/19 [==============================] - 0s 3ms/step - loss: 0.0569 - accuracy: 0.9833 - val_loss: 0.0616 - val_accuracy: 0.9800\n",
            "Epoch 218/300\n",
            "19/19 [==============================] - 0s 4ms/step - loss: 0.0530 - accuracy: 0.9783 - val_loss: 0.0642 - val_accuracy: 0.9800\n",
            "Epoch 219/300\n",
            "19/19 [==============================] - 0s 3ms/step - loss: 0.0544 - accuracy: 0.9800 - val_loss: 0.0615 - val_accuracy: 0.9800\n",
            "Epoch 220/300\n",
            "19/19 [==============================] - 0s 3ms/step - loss: 0.0523 - accuracy: 0.9783 - val_loss: 0.0644 - val_accuracy: 0.9800\n",
            "Epoch 221/300\n",
            "19/19 [==============================] - 0s 4ms/step - loss: 0.0525 - accuracy: 0.9800 - val_loss: 0.0616 - val_accuracy: 0.9800\n",
            "Epoch 222/300\n",
            "19/19 [==============================] - 0s 3ms/step - loss: 0.0519 - accuracy: 0.9800 - val_loss: 0.0622 - val_accuracy: 0.9800\n",
            "Epoch 223/300\n",
            "19/19 [==============================] - 0s 4ms/step - loss: 0.0523 - accuracy: 0.9817 - val_loss: 0.0616 - val_accuracy: 0.9767\n",
            "Epoch 224/300\n",
            "19/19 [==============================] - 0s 3ms/step - loss: 0.0524 - accuracy: 0.9817 - val_loss: 0.0629 - val_accuracy: 0.9767\n",
            "Epoch 225/300\n",
            "19/19 [==============================] - 0s 3ms/step - loss: 0.0517 - accuracy: 0.9800 - val_loss: 0.0626 - val_accuracy: 0.9800\n",
            "Epoch 226/300\n",
            "19/19 [==============================] - 0s 3ms/step - loss: 0.0539 - accuracy: 0.9767 - val_loss: 0.0611 - val_accuracy: 0.9800\n",
            "Epoch 227/300\n",
            "19/19 [==============================] - 0s 4ms/step - loss: 0.0529 - accuracy: 0.9850 - val_loss: 0.0614 - val_accuracy: 0.9800\n",
            "Epoch 228/300\n",
            "19/19 [==============================] - 0s 4ms/step - loss: 0.0516 - accuracy: 0.9817 - val_loss: 0.0625 - val_accuracy: 0.9767\n",
            "Epoch 229/300\n",
            "19/19 [==============================] - 0s 3ms/step - loss: 0.0516 - accuracy: 0.9800 - val_loss: 0.0610 - val_accuracy: 0.9800\n",
            "Epoch 230/300\n",
            "19/19 [==============================] - 0s 3ms/step - loss: 0.0525 - accuracy: 0.9817 - val_loss: 0.0619 - val_accuracy: 0.9800\n",
            "Epoch 231/300\n",
            "19/19 [==============================] - 0s 4ms/step - loss: 0.0519 - accuracy: 0.9817 - val_loss: 0.0608 - val_accuracy: 0.9800\n",
            "Epoch 232/300\n",
            "19/19 [==============================] - 0s 3ms/step - loss: 0.0534 - accuracy: 0.9783 - val_loss: 0.0606 - val_accuracy: 0.9800\n",
            "Epoch 233/300\n",
            "19/19 [==============================] - 0s 3ms/step - loss: 0.0533 - accuracy: 0.9833 - val_loss: 0.0608 - val_accuracy: 0.9800\n",
            "Epoch 234/300\n",
            "19/19 [==============================] - 0s 3ms/step - loss: 0.0519 - accuracy: 0.9783 - val_loss: 0.0619 - val_accuracy: 0.9800\n",
            "Epoch 235/300\n",
            "19/19 [==============================] - 0s 4ms/step - loss: 0.0513 - accuracy: 0.9800 - val_loss: 0.0608 - val_accuracy: 0.9800\n",
            "Epoch 236/300\n",
            "19/19 [==============================] - 0s 3ms/step - loss: 0.0522 - accuracy: 0.9783 - val_loss: 0.0613 - val_accuracy: 0.9800\n",
            "Epoch 237/300\n",
            "19/19 [==============================] - 0s 3ms/step - loss: 0.0527 - accuracy: 0.9833 - val_loss: 0.0609 - val_accuracy: 0.9800\n",
            "Epoch 238/300\n",
            "19/19 [==============================] - 0s 3ms/step - loss: 0.0517 - accuracy: 0.9800 - val_loss: 0.0627 - val_accuracy: 0.9833\n",
            "Epoch 239/300\n",
            "19/19 [==============================] - 0s 3ms/step - loss: 0.0517 - accuracy: 0.9800 - val_loss: 0.0603 - val_accuracy: 0.9800\n",
            "Epoch 240/300\n",
            "19/19 [==============================] - 0s 3ms/step - loss: 0.0513 - accuracy: 0.9800 - val_loss: 0.0606 - val_accuracy: 0.9800\n",
            "Epoch 241/300\n",
            "19/19 [==============================] - 0s 3ms/step - loss: 0.0514 - accuracy: 0.9800 - val_loss: 0.0606 - val_accuracy: 0.9800\n",
            "Epoch 242/300\n",
            "19/19 [==============================] - 0s 4ms/step - loss: 0.0519 - accuracy: 0.9817 - val_loss: 0.0618 - val_accuracy: 0.9767\n",
            "Epoch 243/300\n",
            "19/19 [==============================] - 0s 3ms/step - loss: 0.0512 - accuracy: 0.9817 - val_loss: 0.0603 - val_accuracy: 0.9800\n",
            "Epoch 244/300\n",
            "19/19 [==============================] - 0s 3ms/step - loss: 0.0509 - accuracy: 0.9817 - val_loss: 0.0610 - val_accuracy: 0.9800\n",
            "Epoch 245/300\n",
            "19/19 [==============================] - 0s 3ms/step - loss: 0.0519 - accuracy: 0.9817 - val_loss: 0.0599 - val_accuracy: 0.9833\n",
            "Epoch 246/300\n",
            "19/19 [==============================] - 0s 3ms/step - loss: 0.0537 - accuracy: 0.9800 - val_loss: 0.0605 - val_accuracy: 0.9800\n",
            "Epoch 247/300\n",
            "19/19 [==============================] - 0s 3ms/step - loss: 0.0529 - accuracy: 0.9817 - val_loss: 0.0598 - val_accuracy: 0.9800\n",
            "Epoch 248/300\n",
            "19/19 [==============================] - 0s 3ms/step - loss: 0.0511 - accuracy: 0.9800 - val_loss: 0.0640 - val_accuracy: 0.9800\n",
            "Epoch 249/300\n",
            "19/19 [==============================] - 0s 3ms/step - loss: 0.0509 - accuracy: 0.9767 - val_loss: 0.0599 - val_accuracy: 0.9800\n",
            "Epoch 250/300\n",
            "19/19 [==============================] - 0s 3ms/step - loss: 0.0514 - accuracy: 0.9783 - val_loss: 0.0608 - val_accuracy: 0.9800\n",
            "Epoch 251/300\n",
            "19/19 [==============================] - 0s 3ms/step - loss: 0.0509 - accuracy: 0.9800 - val_loss: 0.0596 - val_accuracy: 0.9800\n",
            "Epoch 252/300\n",
            "19/19 [==============================] - 0s 4ms/step - loss: 0.0517 - accuracy: 0.9800 - val_loss: 0.0598 - val_accuracy: 0.9800\n",
            "Epoch 253/300\n",
            "19/19 [==============================] - 0s 3ms/step - loss: 0.0516 - accuracy: 0.9800 - val_loss: 0.0600 - val_accuracy: 0.9800\n",
            "Epoch 254/300\n",
            "19/19 [==============================] - 0s 3ms/step - loss: 0.0517 - accuracy: 0.9833 - val_loss: 0.0598 - val_accuracy: 0.9833\n",
            "Epoch 255/300\n",
            "19/19 [==============================] - 0s 4ms/step - loss: 0.0506 - accuracy: 0.9800 - val_loss: 0.0613 - val_accuracy: 0.9833\n",
            "Epoch 256/300\n",
            "19/19 [==============================] - 0s 3ms/step - loss: 0.0507 - accuracy: 0.9800 - val_loss: 0.0607 - val_accuracy: 0.9800\n",
            "Epoch 257/300\n",
            "19/19 [==============================] - 0s 4ms/step - loss: 0.0513 - accuracy: 0.9800 - val_loss: 0.0593 - val_accuracy: 0.9800\n",
            "Epoch 258/300\n",
            "19/19 [==============================] - 0s 4ms/step - loss: 0.0502 - accuracy: 0.9783 - val_loss: 0.0615 - val_accuracy: 0.9800\n",
            "Epoch 259/300\n",
            "19/19 [==============================] - 0s 3ms/step - loss: 0.0524 - accuracy: 0.9783 - val_loss: 0.0619 - val_accuracy: 0.9800\n",
            "Epoch 260/300\n",
            "19/19 [==============================] - 0s 3ms/step - loss: 0.0520 - accuracy: 0.9800 - val_loss: 0.0597 - val_accuracy: 0.9833\n",
            "Epoch 261/300\n",
            "19/19 [==============================] - 0s 4ms/step - loss: 0.0518 - accuracy: 0.9800 - val_loss: 0.0599 - val_accuracy: 0.9833\n",
            "Epoch 262/300\n",
            "19/19 [==============================] - 0s 4ms/step - loss: 0.0515 - accuracy: 0.9800 - val_loss: 0.0592 - val_accuracy: 0.9833\n",
            "Epoch 263/300\n",
            "19/19 [==============================] - 0s 3ms/step - loss: 0.0529 - accuracy: 0.9817 - val_loss: 0.0604 - val_accuracy: 0.9833\n",
            "Epoch 264/300\n",
            "19/19 [==============================] - 0s 3ms/step - loss: 0.0512 - accuracy: 0.9800 - val_loss: 0.0592 - val_accuracy: 0.9833\n",
            "Epoch 265/300\n",
            "19/19 [==============================] - 0s 3ms/step - loss: 0.0506 - accuracy: 0.9800 - val_loss: 0.0588 - val_accuracy: 0.9833\n",
            "Epoch 266/300\n",
            "19/19 [==============================] - 0s 3ms/step - loss: 0.0512 - accuracy: 0.9783 - val_loss: 0.0601 - val_accuracy: 0.9833\n",
            "Epoch 267/300\n",
            "19/19 [==============================] - 0s 4ms/step - loss: 0.0505 - accuracy: 0.9800 - val_loss: 0.0593 - val_accuracy: 0.9800\n",
            "Epoch 268/300\n",
            "19/19 [==============================] - 0s 3ms/step - loss: 0.0506 - accuracy: 0.9800 - val_loss: 0.0597 - val_accuracy: 0.9800\n",
            "Epoch 269/300\n",
            "19/19 [==============================] - 0s 5ms/step - loss: 0.0511 - accuracy: 0.9817 - val_loss: 0.0592 - val_accuracy: 0.9833\n",
            "Epoch 270/300\n",
            "19/19 [==============================] - 0s 4ms/step - loss: 0.0499 - accuracy: 0.9800 - val_loss: 0.0602 - val_accuracy: 0.9833\n",
            "Epoch 271/300\n",
            "19/19 [==============================] - 0s 7ms/step - loss: 0.0504 - accuracy: 0.9800 - val_loss: 0.0597 - val_accuracy: 0.9833\n",
            "Epoch 272/300\n",
            "19/19 [==============================] - 0s 5ms/step - loss: 0.0506 - accuracy: 0.9800 - val_loss: 0.0592 - val_accuracy: 0.9833\n",
            "Epoch 273/300\n",
            "19/19 [==============================] - 0s 5ms/step - loss: 0.0514 - accuracy: 0.9800 - val_loss: 0.0591 - val_accuracy: 0.9833\n",
            "Epoch 274/300\n",
            "19/19 [==============================] - 0s 3ms/step - loss: 0.0506 - accuracy: 0.9800 - val_loss: 0.0623 - val_accuracy: 0.9833\n",
            "Epoch 275/300\n",
            "19/19 [==============================] - 0s 3ms/step - loss: 0.0537 - accuracy: 0.9817 - val_loss: 0.0586 - val_accuracy: 0.9833\n",
            "Epoch 276/300\n",
            "19/19 [==============================] - 0s 4ms/step - loss: 0.0510 - accuracy: 0.9800 - val_loss: 0.0620 - val_accuracy: 0.9833\n",
            "Epoch 277/300\n",
            "19/19 [==============================] - 0s 4ms/step - loss: 0.0507 - accuracy: 0.9783 - val_loss: 0.0578 - val_accuracy: 0.9833\n",
            "Epoch 278/300\n",
            "19/19 [==============================] - 0s 4ms/step - loss: 0.0505 - accuracy: 0.9800 - val_loss: 0.0589 - val_accuracy: 0.9833\n",
            "Epoch 279/300\n",
            "19/19 [==============================] - 0s 4ms/step - loss: 0.0506 - accuracy: 0.9800 - val_loss: 0.0586 - val_accuracy: 0.9800\n",
            "Epoch 280/300\n",
            "19/19 [==============================] - 0s 4ms/step - loss: 0.0510 - accuracy: 0.9800 - val_loss: 0.0560 - val_accuracy: 0.9800\n",
            "Epoch 281/300\n",
            "19/19 [==============================] - 0s 7ms/step - loss: 0.0510 - accuracy: 0.9800 - val_loss: 0.0570 - val_accuracy: 0.9800\n",
            "Epoch 282/300\n",
            "19/19 [==============================] - 0s 4ms/step - loss: 0.0508 - accuracy: 0.9800 - val_loss: 0.0562 - val_accuracy: 0.9800\n",
            "Epoch 283/300\n",
            "19/19 [==============================] - 0s 4ms/step - loss: 0.0518 - accuracy: 0.9800 - val_loss: 0.0564 - val_accuracy: 0.9800\n",
            "Epoch 284/300\n",
            "19/19 [==============================] - 0s 4ms/step - loss: 0.0505 - accuracy: 0.9800 - val_loss: 0.0581 - val_accuracy: 0.9800\n",
            "Epoch 285/300\n",
            "19/19 [==============================] - 0s 4ms/step - loss: 0.0512 - accuracy: 0.9800 - val_loss: 0.0576 - val_accuracy: 0.9800\n",
            "Epoch 286/300\n",
            "19/19 [==============================] - 0s 4ms/step - loss: 0.0502 - accuracy: 0.9783 - val_loss: 0.0582 - val_accuracy: 0.9800\n",
            "Epoch 287/300\n",
            "19/19 [==============================] - 0s 4ms/step - loss: 0.0499 - accuracy: 0.9800 - val_loss: 0.0571 - val_accuracy: 0.9800\n",
            "Epoch 288/300\n",
            "19/19 [==============================] - 0s 4ms/step - loss: 0.0497 - accuracy: 0.9800 - val_loss: 0.0583 - val_accuracy: 0.9833\n",
            "Epoch 289/300\n",
            "19/19 [==============================] - 0s 4ms/step - loss: 0.0503 - accuracy: 0.9800 - val_loss: 0.0579 - val_accuracy: 0.9800\n",
            "Epoch 290/300\n",
            "19/19 [==============================] - 0s 4ms/step - loss: 0.0514 - accuracy: 0.9833 - val_loss: 0.0583 - val_accuracy: 0.9800\n",
            "Epoch 291/300\n",
            "19/19 [==============================] - 0s 4ms/step - loss: 0.0506 - accuracy: 0.9783 - val_loss: 0.0591 - val_accuracy: 0.9800\n",
            "Epoch 292/300\n",
            "19/19 [==============================] - 0s 4ms/step - loss: 0.0495 - accuracy: 0.9800 - val_loss: 0.0570 - val_accuracy: 0.9833\n",
            "Epoch 293/300\n",
            "19/19 [==============================] - 0s 5ms/step - loss: 0.0514 - accuracy: 0.9800 - val_loss: 0.0586 - val_accuracy: 0.9833\n",
            "Epoch 294/300\n",
            "19/19 [==============================] - 0s 4ms/step - loss: 0.0547 - accuracy: 0.9817 - val_loss: 0.0582 - val_accuracy: 0.9833\n",
            "Epoch 295/300\n",
            "19/19 [==============================] - 0s 3ms/step - loss: 0.0522 - accuracy: 0.9767 - val_loss: 0.0585 - val_accuracy: 0.9833\n",
            "Epoch 296/300\n",
            "19/19 [==============================] - 0s 4ms/step - loss: 0.0506 - accuracy: 0.9783 - val_loss: 0.0575 - val_accuracy: 0.9833\n",
            "Epoch 297/300\n",
            "19/19 [==============================] - 0s 4ms/step - loss: 0.0502 - accuracy: 0.9817 - val_loss: 0.0572 - val_accuracy: 0.9833\n",
            "Epoch 298/300\n",
            "19/19 [==============================] - 0s 3ms/step - loss: 0.0508 - accuracy: 0.9800 - val_loss: 0.0589 - val_accuracy: 0.9833\n",
            "Epoch 299/300\n",
            "19/19 [==============================] - 0s 3ms/step - loss: 0.0508 - accuracy: 0.9800 - val_loss: 0.0578 - val_accuracy: 0.9833\n",
            "Epoch 300/300\n",
            "19/19 [==============================] - 0s 3ms/step - loss: 0.0514 - accuracy: 0.9783 - val_loss: 0.0603 - val_accuracy: 0.9833\n"
          ]
        }
      ]
    },
    {
      "cell_type": "markdown",
      "source": [
        "## Verifica Acurácia"
      ],
      "metadata": {
        "id": "zNgccaifytAV"
      }
    },
    {
      "cell_type": "code",
      "metadata": {
        "colab": {
          "base_uri": "https://localhost:8080/"
        },
        "id": "oYC4_JqkhW5u",
        "outputId": "7c67127c-02ad-4e26-d5c5-2caa98747557"
      },
      "source": [
        "_, train_acc = model.evaluate(trainX, trainy, verbose=0)\n",
        "_, val_acc = model.evaluate(validX, validy, verbose=0)\n",
        "_, test_acc = model.evaluate(testX, testy, verbose=0)\n",
        "\n",
        "print('Train: %.3f, Valid: %.3f, Test: %.3f' % (train_acc, val_acc, test_acc))"
      ],
      "execution_count": 18,
      "outputs": [
        {
          "output_type": "stream",
          "name": "stdout",
          "text": [
            "Train: 0.980, Valid: 0.983, Test: 0.970\n"
          ]
        }
      ]
    },
    {
      "cell_type": "markdown",
      "source": [
        "## Aplica o modelo treinado"
      ],
      "metadata": {
        "id": "3ag34DeTy14t"
      }
    },
    {
      "cell_type": "code",
      "metadata": {
        "id": "iVyKAOOmRwkr",
        "colab": {
          "base_uri": "https://localhost:8080/"
        },
        "outputId": "844fefdd-b586-46f5-f905-af727cb0f90c"
      },
      "source": [
        "ytt = model.predict(testX)"
      ],
      "execution_count": 19,
      "outputs": [
        {
          "output_type": "stream",
          "name": "stdout",
          "text": [
            "4/4 [==============================] - 0s 2ms/step\n"
          ]
        }
      ]
    },
    {
      "cell_type": "code",
      "metadata": {
        "id": "yXJIai2MrqKh",
        "colab": {
          "base_uri": "https://localhost:8080/"
        },
        "outputId": "a40fac84-32c6-4a47-862f-db34d9cf3e9b"
      },
      "source": [
        "ytt"
      ],
      "execution_count": 22,
      "outputs": [
        {
          "output_type": "execute_result",
          "data": {
            "text/plain": [
              "array([[9.99687374e-01, 2.53882085e-04, 5.87039431e-05],\n",
              "       [1.01415606e-06, 9.99998868e-01, 8.79425865e-09],\n",
              "       [5.88035226e-01, 4.11671340e-01, 2.93340650e-04],\n",
              "       [2.17632297e-02, 9.78146374e-01, 9.04217377e-05],\n",
              "       [9.93582904e-01, 1.79031427e-04, 6.23802189e-03],\n",
              "       [2.79747345e-03, 9.97189403e-01, 1.31156776e-05],\n",
              "       [9.97530758e-01, 2.00811238e-03, 4.61184653e-04],\n",
              "       [5.27446864e-05, 9.99947131e-01, 1.43394530e-07],\n",
              "       [6.30127733e-21, 1.06470602e-14, 9.99999940e-01],\n",
              "       [9.88974452e-01, 4.50186571e-03, 6.52368087e-03],\n",
              "       [9.96088684e-01, 2.40275054e-03, 1.50855607e-03],\n",
              "       [9.76811349e-01, 2.07619509e-04, 2.29809918e-02],\n",
              "       [4.42286637e-06, 9.99995530e-01, 1.29076705e-08],\n",
              "       [5.81751884e-26, 1.63819415e-16, 9.99999940e-01],\n",
              "       [1.06025396e-25, 4.02050065e-16, 9.99999940e-01],\n",
              "       [9.99353886e-01, 3.92973277e-04, 2.52987375e-04],\n",
              "       [9.21676993e-01, 7.67157525e-02, 1.60711736e-03],\n",
              "       [9.99791861e-01, 7.34847345e-05, 1.34641174e-04],\n",
              "       [9.60625768e-01, 4.50082953e-05, 3.93291786e-02],\n",
              "       [1.29808905e-04, 9.99869823e-01, 4.60531879e-07],\n",
              "       [9.98301566e-01, 1.20767590e-03, 4.90742153e-04],\n",
              "       [1.71497185e-14, 2.39179726e-12, 9.99999940e-01],\n",
              "       [5.72867220e-14, 1.34169524e-11, 9.99999940e-01],\n",
              "       [9.99619186e-01, 3.06177302e-04, 7.46710575e-05],\n",
              "       [9.78855252e-01, 2.09754426e-02, 1.69321444e-04],\n",
              "       [2.98468161e-25, 9.32589628e-16, 9.99999940e-01],\n",
              "       [6.20639417e-03, 2.71033468e-06, 9.93790984e-01],\n",
              "       [9.51959472e-03, 9.90466714e-01, 1.36709605e-05],\n",
              "       [4.70428320e-04, 9.99528170e-01, 1.43493594e-06],\n",
              "       [9.98470664e-01, 1.26488251e-03, 2.64476170e-04],\n",
              "       [9.98313844e-01, 1.59364042e-03, 9.25006098e-05],\n",
              "       [3.27952500e-22, 1.15310729e-14, 9.99999940e-01],\n",
              "       [9.34873760e-01, 6.48255274e-02, 3.00782180e-04],\n",
              "       [9.96877193e-01, 1.95252220e-03, 1.17031066e-03],\n",
              "       [9.97685194e-01, 2.09893612e-03, 2.15830296e-04],\n",
              "       [1.09042109e-28, 1.63655682e-17, 9.99999940e-01],\n",
              "       [4.35174954e-21, 3.23409241e-14, 9.99999940e-01],\n",
              "       [3.81288514e-03, 9.96151388e-01, 3.57090648e-05],\n",
              "       [2.81629469e-02, 9.71804261e-01, 3.28284477e-05],\n",
              "       [9.99772072e-01, 1.47748826e-04, 8.01820788e-05],\n",
              "       [9.84314203e-01, 5.74045407e-06, 1.56800803e-02],\n",
              "       [9.97466803e-01, 6.19550585e-04, 1.91366090e-03],\n",
              "       [1.24390551e-03, 9.98742580e-01, 1.34102620e-05],\n",
              "       [4.33308063e-21, 8.54752467e-14, 9.99999940e-01],\n",
              "       [9.94576097e-01, 4.81691211e-03, 6.07063645e-04],\n",
              "       [2.71739191e-05, 9.99972641e-01, 6.67420252e-08],\n",
              "       [4.48389713e-29, 2.44140248e-18, 9.99999940e-01],\n",
              "       [2.65161560e-07, 1.43652343e-08, 9.99999702e-01],\n",
              "       [9.93944466e-01, 2.31513800e-03, 3.74037772e-03],\n",
              "       [9.89705205e-01, 1.20391169e-05, 1.02827512e-02],\n",
              "       [7.71406064e-23, 6.89747950e-15, 9.99999940e-01],\n",
              "       [1.56313173e-19, 1.59546909e-13, 9.99999940e-01],\n",
              "       [9.98006165e-01, 3.95755254e-04, 1.59814733e-03],\n",
              "       [3.85264298e-21, 3.57676332e-14, 9.99999940e-01],\n",
              "       [1.29420802e-01, 8.70562494e-01, 1.67545513e-05],\n",
              "       [6.80097075e-21, 3.62176126e-15, 9.99999940e-01],\n",
              "       [1.34293512e-02, 9.86565232e-01, 5.38260338e-06],\n",
              "       [9.98520672e-01, 1.04213681e-03, 4.37054376e-04],\n",
              "       [9.97274399e-01, 2.47830804e-03, 2.47445976e-04],\n",
              "       [2.34028950e-04, 9.99765158e-01, 7.87009640e-07],\n",
              "       [7.41969264e-10, 4.46015314e-09, 9.99999940e-01],\n",
              "       [6.69231165e-29, 4.25278037e-18, 9.99999940e-01],\n",
              "       [9.90700543e-01, 9.12120007e-03, 1.78302274e-04],\n",
              "       [2.76963365e-05, 9.99972165e-01, 6.66280258e-08],\n",
              "       [8.15824205e-06, 9.99991715e-01, 9.93152867e-08],\n",
              "       [9.96507525e-01, 3.23962420e-03, 2.52741214e-04],\n",
              "       [4.62688319e-03, 9.95328724e-01, 4.43848985e-05],\n",
              "       [9.97882307e-01, 1.35763036e-03, 7.60056835e-04],\n",
              "       [9.96821165e-01, 3.10034072e-03, 7.85848461e-05],\n",
              "       [7.07161659e-03, 9.92919564e-01, 8.84576912e-06],\n",
              "       [5.16036758e-03, 9.94836807e-01, 2.85142801e-06],\n",
              "       [9.99737740e-01, 5.43293972e-05, 2.07825797e-04],\n",
              "       [5.18359522e-10, 3.56815133e-10, 9.99999940e-01],\n",
              "       [3.24589200e-09, 5.97669469e-09, 9.99999940e-01],\n",
              "       [9.97879982e-01, 1.46963430e-05, 2.10525445e-03],\n",
              "       [1.30209676e-03, 9.98695552e-01, 2.34077720e-06],\n",
              "       [9.97976899e-01, 1.88353530e-03, 1.39638330e-04],\n",
              "       [9.87320900e-01, 1.86247908e-05, 1.26604512e-02],\n",
              "       [4.82981294e-01, 5.16283035e-01, 7.35680806e-04],\n",
              "       [9.82387424e-01, 1.74840614e-02, 1.28611282e-04],\n",
              "       [2.02241987e-10, 3.77661458e-09, 9.99999940e-01],\n",
              "       [2.73618131e-26, 2.14009108e-16, 9.99999940e-01],\n",
              "       [8.28580797e-01, 1.70531109e-01, 8.88138718e-04],\n",
              "       [1.67338027e-32, 4.64180834e-20, 9.99999940e-01],\n",
              "       [1.82824333e-05, 9.99981701e-01, 3.80789587e-08],\n",
              "       [2.99342162e-10, 1.25741784e-09, 9.99999940e-01],\n",
              "       [1.06647022e-14, 6.68724451e-11, 9.99999940e-01],\n",
              "       [1.82716085e-05, 9.99981701e-01, 4.19617798e-08],\n",
              "       [9.23624992e-01, 7.59754628e-02, 3.99532204e-04],\n",
              "       [2.01933812e-02, 9.79739726e-01, 6.68773355e-05],\n",
              "       [6.90310544e-17, 1.47171500e-12, 9.99999940e-01],\n",
              "       [4.55982263e-05, 9.99954164e-01, 6.50065033e-08],\n",
              "       [7.24355506e-11, 2.48189047e-09, 9.99999940e-01],\n",
              "       [9.97307658e-01, 5.98099839e-04, 2.09422177e-03],\n",
              "       [9.98651147e-01, 1.27513753e-03, 7.37240262e-05],\n",
              "       [1.61915642e-18, 3.72168171e-13, 9.99999940e-01],\n",
              "       [9.99669194e-01, 1.70730302e-04, 1.60034251e-04],\n",
              "       [4.46335971e-01, 5.53465843e-01, 1.98188791e-04],\n",
              "       [9.84697461e-01, 6.76976879e-06, 1.52957328e-02],\n",
              "       [8.28751206e-01, 1.70953721e-01, 2.95125326e-04]], dtype=float32)"
            ]
          },
          "metadata": {},
          "execution_count": 22
        }
      ]
    },
    {
      "cell_type": "code",
      "source": [
        "# Convert predictions classes to one hot vectors \n",
        "i_ytt_m = np.argmax(ytt,axis = 1) \n",
        "i_ya_m = np.argmax(testy,axis = 1) "
      ],
      "metadata": {
        "id": "Imm_iak09kup"
      },
      "execution_count": 23,
      "outputs": []
    },
    {
      "cell_type": "code",
      "source": [
        "i_ytt_m"
      ],
      "metadata": {
        "colab": {
          "base_uri": "https://localhost:8080/"
        },
        "id": "GX59ZPtG9xao",
        "outputId": "9e702a6a-a63f-4d0d-aab5-ec02a5bcaac0"
      },
      "execution_count": 24,
      "outputs": [
        {
          "output_type": "execute_result",
          "data": {
            "text/plain": [
              "array([0, 1, 0, 1, 0, 1, 0, 1, 2, 0, 0, 0, 1, 2, 2, 0, 0, 0, 0, 1, 0, 2,\n",
              "       2, 0, 0, 2, 2, 1, 1, 0, 0, 2, 0, 0, 0, 2, 2, 1, 1, 0, 0, 0, 1, 2,\n",
              "       0, 1, 2, 2, 0, 0, 2, 2, 0, 2, 1, 2, 1, 0, 0, 1, 2, 2, 0, 1, 1, 0,\n",
              "       1, 0, 0, 1, 1, 0, 2, 2, 0, 1, 0, 0, 1, 0, 2, 2, 0, 2, 1, 2, 2, 1,\n",
              "       0, 1, 2, 1, 2, 0, 0, 2, 0, 1, 0, 0])"
            ]
          },
          "metadata": {},
          "execution_count": 24
        }
      ]
    },
    {
      "cell_type": "markdown",
      "source": [
        "## **NÃO PRECISA**"
      ],
      "metadata": {
        "id": "Nxx7LYP1y5aW"
      }
    },
    {
      "cell_type": "code",
      "metadata": {
        "id": "hKjOvi4Asm5O"
      },
      "source": [
        "# Convert predictions classes to one hot vectors \n",
        "i_ytt_m = np.argmax(ytt,axis = 1) \n",
        "i_ya_m = np.argmax(testy,axis = 1) \n",
        "a = 0\n",
        "for i in range (500):\n",
        "  #print(i_ya_m[i], ' ', i_ytt_m[i])\n",
        "  if (i_ya_m[i]==i_ytt_m[i]):\n",
        "    a = a + 1\n",
        "print('Acertos = ', a)\n",
        "\n",
        "for i in range (50):\n",
        "  print(testy[i], ' ', i_ya_m[i], ' ', ytt[i], ' ', i_ytt_m[i])"
      ],
      "execution_count": null,
      "outputs": []
    },
    {
      "cell_type": "markdown",
      "source": [
        "## Plota histórico do treinamento"
      ],
      "metadata": {
        "id": "_Q4XT_qjy9r-"
      }
    },
    {
      "cell_type": "code",
      "metadata": {
        "id": "7OrZ92h5a29l",
        "colab": {
          "base_uri": "https://localhost:8080/",
          "height": 381
        },
        "outputId": "c3b8688f-b713-46f1-c648-e578392d93ef"
      },
      "source": [
        "# plot loss during training\n",
        "pyplot.figure(figsize=(10,8))\n",
        "pyplot.subplot(211)\n",
        "pyplot.title('Loss')\n",
        "pyplot.plot(history.history['loss'], label='train')\n",
        "pyplot.plot(history.history['val_loss'], label='test')\n",
        "pyplot.legend()"
      ],
      "execution_count": 20,
      "outputs": [
        {
          "output_type": "execute_result",
          "data": {
            "text/plain": [
              "<matplotlib.legend.Legend at 0x7f6052308430>"
            ]
          },
          "metadata": {},
          "execution_count": 20
        },
        {
          "output_type": "display_data",
          "data": {
            "text/plain": [
              "<Figure size 1000x800 with 1 Axes>"
            ],
            "image/png": "[encoded data removed]"
          },
          "metadata": {}
        }
      ]
    },
    {
      "cell_type": "code",
      "metadata": {
        "id": "ekOh8NRza6td",
        "colab": {
          "base_uri": "https://localhost:8080/",
          "height": 363
        },
        "outputId": "4d42b784-a085-4947-f07c-53b89271c4b2"
      },
      "source": [
        "# plot accuracy during training\n",
        "pyplot.figure(figsize=(10,8))\n",
        "pyplot.subplot(212)\n",
        "pyplot.title('Accuracy')\n",
        "pyplot.plot(history.history['accuracy'], label='train')\n",
        "pyplot.plot(history.history['val_accuracy'], label='test')\n",
        "pyplot.legend()\n",
        "pyplot.show()"
      ],
      "execution_count": 21,
      "outputs": [
        {
          "output_type": "display_data",
          "data": {
            "text/plain": [
              "<Figure size 1000x800 with 1 Axes>"
            ],
            "image/png": "[encoded data removed]"
          },
          "metadata": {}
        }
      ]
    },
    {
      "cell_type": "markdown",
      "source": [
        "## Matriz de Confusão"
      ],
      "metadata": {
        "id": "DJWbuBfOzF2V"
      }
    },
    {
      "cell_type": "code",
      "source": [
        "# Convert predictions classes to one hot vectors \n",
        "i_ytt_m = np.argmax(ytt,axis = 1) \n",
        "i_ya_m = np.argmax(testy,axis = 1) "
      ],
      "metadata": {
        "id": "wMgRBnsmwi6x"
      },
      "execution_count": 25,
      "outputs": []
    },
    {
      "cell_type": "code",
      "source": [
        "tf.math.confusion_matrix(i_ya_m, i_ytt_m)"
      ],
      "metadata": {
        "colab": {
          "base_uri": "https://localhost:8080/"
        },
        "id": "trO3Hw5f-OCp",
        "outputId": "58980e2e-a8b7-4539-8806-728faf8a39cc"
      },
      "execution_count": 28,
      "outputs": [
        {
          "output_type": "execute_result",
          "data": {
            "text/plain": [
              "<tf.Tensor: shape=(3, 3), dtype=int32, numpy=\n",
              "array([[42,  1,  0],\n",
              "       [ 2, 26,  0],\n",
              "       [ 0,  0, 29]], dtype=int32)>"
            ]
          },
          "metadata": {},
          "execution_count": 28
        }
      ]
    },
    {
      "cell_type": "code",
      "metadata": {
        "id": "-8Xi6ZEcqxld",
        "colab": {
          "base_uri": "https://localhost:8080/",
          "height": 441
        },
        "outputId": "9267c6a4-3782-46b4-bcec-ceeca0809123"
      },
      "source": [
        "import tensorflow as tf\n",
        "import seaborn as sns\n",
        "\n",
        "confusion_mtx = tf.math.confusion_matrix(i_ya_m, i_ytt_m)\n",
        "print(confusion_mtx)\n",
        "\n",
        "pyplot.figure(figsize=(6, 4))\n",
        "\n",
        "c = sns.heatmap(confusion_mtx, annot=True, fmt='g')\n",
        "\n",
        "pyplot.show()"
      ],
      "execution_count": 27,
      "outputs": [
        {
          "output_type": "stream",
          "name": "stdout",
          "text": [
            "tf.Tensor(\n",
            "[[42  1  0]\n",
            " [ 2 26  0]\n",
            " [ 0  0 29]], shape=(3, 3), dtype=int32)\n"
          ]
        },
        {
          "output_type": "display_data",
          "data": {
            "text/plain": [
              "<Figure size 600x400 with 2 Axes>"
            ],
            "image/png": "[encoded data removed]"
          },
          "metadata": {}
        }
      ]
    }
  ]
}